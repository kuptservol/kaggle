{
 "cells": [
  {
   "cell_type": "code",
   "execution_count": 1,
   "metadata": {},
   "outputs": [],
   "source": [
    "import pandas as pd\n",
    "import numpy as np"
   ]
  },
  {
   "cell_type": "code",
   "execution_count": 269,
   "metadata": {},
   "outputs": [
    {
     "data": {
      "text/html": [
       "<div>\n",
       "<style scoped>\n",
       "    .dataframe tbody tr th:only-of-type {\n",
       "        vertical-align: middle;\n",
       "    }\n",
       "\n",
       "    .dataframe tbody tr th {\n",
       "        vertical-align: top;\n",
       "    }\n",
       "\n",
       "    .dataframe thead th {\n",
       "        text-align: right;\n",
       "    }\n",
       "</style>\n",
       "<table border=\"1\" class=\"dataframe\">\n",
       "  <thead>\n",
       "    <tr style=\"text-align: right;\">\n",
       "      <th>match_id</th>\n",
       "      <th>0</th>\n",
       "      <th>1</th>\n",
       "      <th>2</th>\n",
       "    </tr>\n",
       "  </thead>\n",
       "  <tbody>\n",
       "    <tr>\n",
       "      <th>start_time</th>\n",
       "      <td>1.430199e+09</td>\n",
       "      <td>1.430220e+09</td>\n",
       "      <td>1.430227e+09</td>\n",
       "    </tr>\n",
       "    <tr>\n",
       "      <th>lobby_type</th>\n",
       "      <td>7.000000e+00</td>\n",
       "      <td>0.000000e+00</td>\n",
       "      <td>7.000000e+00</td>\n",
       "    </tr>\n",
       "    <tr>\n",
       "      <th>r1_hero</th>\n",
       "      <td>1.100000e+01</td>\n",
       "      <td>4.200000e+01</td>\n",
       "      <td>3.300000e+01</td>\n",
       "    </tr>\n",
       "    <tr>\n",
       "      <th>r1_level</th>\n",
       "      <td>5.000000e+00</td>\n",
       "      <td>4.000000e+00</td>\n",
       "      <td>4.000000e+00</td>\n",
       "    </tr>\n",
       "    <tr>\n",
       "      <th>r1_xp</th>\n",
       "      <td>2.098000e+03</td>\n",
       "      <td>1.188000e+03</td>\n",
       "      <td>1.319000e+03</td>\n",
       "    </tr>\n",
       "    <tr>\n",
       "      <th>...</th>\n",
       "      <td>...</td>\n",
       "      <td>...</td>\n",
       "      <td>...</td>\n",
       "    </tr>\n",
       "    <tr>\n",
       "      <th>radiant_win</th>\n",
       "      <td>1.000000e+00</td>\n",
       "      <td>1.000000e+00</td>\n",
       "      <td>0.000000e+00</td>\n",
       "    </tr>\n",
       "    <tr>\n",
       "      <th>tower_status_radiant</th>\n",
       "      <td>1.796000e+03</td>\n",
       "      <td>1.974000e+03</td>\n",
       "      <td>0.000000e+00</td>\n",
       "    </tr>\n",
       "    <tr>\n",
       "      <th>tower_status_dire</th>\n",
       "      <td>0.000000e+00</td>\n",
       "      <td>0.000000e+00</td>\n",
       "      <td>1.830000e+03</td>\n",
       "    </tr>\n",
       "    <tr>\n",
       "      <th>barracks_status_radiant</th>\n",
       "      <td>5.100000e+01</td>\n",
       "      <td>6.300000e+01</td>\n",
       "      <td>0.000000e+00</td>\n",
       "    </tr>\n",
       "    <tr>\n",
       "      <th>barracks_status_dire</th>\n",
       "      <td>0.000000e+00</td>\n",
       "      <td>1.000000e+00</td>\n",
       "      <td>6.300000e+01</td>\n",
       "    </tr>\n",
       "  </tbody>\n",
       "</table>\n",
       "<p>108 rows × 3 columns</p>\n",
       "</div>"
      ],
      "text/plain": [
       "match_id                            0             1             2\n",
       "start_time               1.430199e+09  1.430220e+09  1.430227e+09\n",
       "lobby_type               7.000000e+00  0.000000e+00  7.000000e+00\n",
       "r1_hero                  1.100000e+01  4.200000e+01  3.300000e+01\n",
       "r1_level                 5.000000e+00  4.000000e+00  4.000000e+00\n",
       "r1_xp                    2.098000e+03  1.188000e+03  1.319000e+03\n",
       "...                               ...           ...           ...\n",
       "radiant_win              1.000000e+00  1.000000e+00  0.000000e+00\n",
       "tower_status_radiant     1.796000e+03  1.974000e+03  0.000000e+00\n",
       "tower_status_dire        0.000000e+00  0.000000e+00  1.830000e+03\n",
       "barracks_status_radiant  5.100000e+01  6.300000e+01  0.000000e+00\n",
       "barracks_status_dire     0.000000e+00  1.000000e+00  6.300000e+01\n",
       "\n",
       "[108 rows x 3 columns]"
      ]
     },
     "execution_count": 269,
     "metadata": {},
     "output_type": "execute_result"
    }
   ],
   "source": [
    "features = pd.read_csv('/Users/kuptservol/.datasets/dota-2-win-probability-prediction/features.csv', index_col='match_id')\n",
    "\n",
    "features.head(3).T"
   ]
  },
  {
   "cell_type": "code",
   "execution_count": 270,
   "metadata": {},
   "outputs": [
    {
     "data": {
      "text/plain": [
       "(97230, 108)"
      ]
     },
     "execution_count": 270,
     "metadata": {},
     "output_type": "execute_result"
    }
   ],
   "source": [
    "features.shape"
   ]
  },
  {
   "cell_type": "code",
   "execution_count": 271,
   "metadata": {},
   "outputs": [
    {
     "data": {
      "text/html": [
       "<div>\n",
       "<style scoped>\n",
       "    .dataframe tbody tr th:only-of-type {\n",
       "        vertical-align: middle;\n",
       "    }\n",
       "\n",
       "    .dataframe tbody tr th {\n",
       "        vertical-align: top;\n",
       "    }\n",
       "\n",
       "    .dataframe thead th {\n",
       "        text-align: right;\n",
       "    }\n",
       "</style>\n",
       "<table border=\"1\" class=\"dataframe\">\n",
       "  <thead>\n",
       "    <tr style=\"text-align: right;\">\n",
       "      <th></th>\n",
       "      <th>start_time</th>\n",
       "      <th>lobby_type</th>\n",
       "      <th>r1_hero</th>\n",
       "      <th>r1_level</th>\n",
       "      <th>r1_xp</th>\n",
       "      <th>r1_gold</th>\n",
       "      <th>r1_lh</th>\n",
       "      <th>r1_kills</th>\n",
       "      <th>r1_deaths</th>\n",
       "      <th>r1_items</th>\n",
       "      <th>...</th>\n",
       "      <th>dire_boots_count</th>\n",
       "      <th>dire_ward_observer_count</th>\n",
       "      <th>dire_ward_sentry_count</th>\n",
       "      <th>dire_first_ward_time</th>\n",
       "      <th>duration</th>\n",
       "      <th>radiant_win</th>\n",
       "      <th>tower_status_radiant</th>\n",
       "      <th>tower_status_dire</th>\n",
       "      <th>barracks_status_radiant</th>\n",
       "      <th>barracks_status_dire</th>\n",
       "    </tr>\n",
       "  </thead>\n",
       "  <tbody>\n",
       "    <tr>\n",
       "      <th>count</th>\n",
       "      <td>9.723000e+04</td>\n",
       "      <td>97230.000000</td>\n",
       "      <td>97230.000000</td>\n",
       "      <td>97230.000000</td>\n",
       "      <td>97230.000000</td>\n",
       "      <td>97230.000000</td>\n",
       "      <td>97230.000000</td>\n",
       "      <td>97230.000000</td>\n",
       "      <td>97230.000000</td>\n",
       "      <td>97230.000000</td>\n",
       "      <td>...</td>\n",
       "      <td>97230.000000</td>\n",
       "      <td>97230.000000</td>\n",
       "      <td>97230.000000</td>\n",
       "      <td>95404.000000</td>\n",
       "      <td>97230.000000</td>\n",
       "      <td>97230.000000</td>\n",
       "      <td>97230.000000</td>\n",
       "      <td>97230.000000</td>\n",
       "      <td>97230.000000</td>\n",
       "      <td>97230.000000</td>\n",
       "    </tr>\n",
       "    <tr>\n",
       "      <th>mean</th>\n",
       "      <td>1.444232e+09</td>\n",
       "      <td>2.630999</td>\n",
       "      <td>51.517104</td>\n",
       "      <td>3.442672</td>\n",
       "      <td>1233.405801</td>\n",
       "      <td>1147.899702</td>\n",
       "      <td>11.231996</td>\n",
       "      <td>0.357009</td>\n",
       "      <td>0.362285</td>\n",
       "      <td>8.271315</td>\n",
       "      <td>...</td>\n",
       "      <td>3.349553</td>\n",
       "      <td>2.448339</td>\n",
       "      <td>0.689119</td>\n",
       "      <td>-6.901922</td>\n",
       "      <td>2332.247886</td>\n",
       "      <td>0.518503</td>\n",
       "      <td>1309.227790</td>\n",
       "      <td>1286.310820</td>\n",
       "      <td>40.599095</td>\n",
       "      <td>41.337036</td>\n",
       "    </tr>\n",
       "    <tr>\n",
       "      <th>std</th>\n",
       "      <td>5.515393e+06</td>\n",
       "      <td>2.835761</td>\n",
       "      <td>32.564211</td>\n",
       "      <td>1.111741</td>\n",
       "      <td>566.588895</td>\n",
       "      <td>464.111662</td>\n",
       "      <td>9.041620</td>\n",
       "      <td>0.663889</td>\n",
       "      <td>0.626704</td>\n",
       "      <td>2.497575</td>\n",
       "      <td>...</td>\n",
       "      <td>1.155609</td>\n",
       "      <td>0.813459</td>\n",
       "      <td>0.710122</td>\n",
       "      <td>40.701397</td>\n",
       "      <td>715.806850</td>\n",
       "      <td>0.499660</td>\n",
       "      <td>853.921365</td>\n",
       "      <td>851.009148</td>\n",
       "      <td>27.871645</td>\n",
       "      <td>27.064873</td>\n",
       "    </tr>\n",
       "    <tr>\n",
       "      <th>min</th>\n",
       "      <td>1.430199e+09</td>\n",
       "      <td>0.000000</td>\n",
       "      <td>1.000000</td>\n",
       "      <td>0.000000</td>\n",
       "      <td>0.000000</td>\n",
       "      <td>0.000000</td>\n",
       "      <td>0.000000</td>\n",
       "      <td>0.000000</td>\n",
       "      <td>0.000000</td>\n",
       "      <td>0.000000</td>\n",
       "      <td>...</td>\n",
       "      <td>0.000000</td>\n",
       "      <td>0.000000</td>\n",
       "      <td>0.000000</td>\n",
       "      <td>-84.000000</td>\n",
       "      <td>900.000000</td>\n",
       "      <td>0.000000</td>\n",
       "      <td>0.000000</td>\n",
       "      <td>0.000000</td>\n",
       "      <td>0.000000</td>\n",
       "      <td>0.000000</td>\n",
       "    </tr>\n",
       "    <tr>\n",
       "      <th>25%</th>\n",
       "      <td>1.440815e+09</td>\n",
       "      <td>1.000000</td>\n",
       "      <td>22.000000</td>\n",
       "      <td>3.000000</td>\n",
       "      <td>767.000000</td>\n",
       "      <td>746.000000</td>\n",
       "      <td>2.000000</td>\n",
       "      <td>0.000000</td>\n",
       "      <td>0.000000</td>\n",
       "      <td>7.000000</td>\n",
       "      <td>...</td>\n",
       "      <td>3.000000</td>\n",
       "      <td>2.000000</td>\n",
       "      <td>0.000000</td>\n",
       "      <td>-31.000000</td>\n",
       "      <td>1818.000000</td>\n",
       "      <td>0.000000</td>\n",
       "      <td>36.000000</td>\n",
       "      <td>256.000000</td>\n",
       "      <td>3.000000</td>\n",
       "      <td>3.000000</td>\n",
       "    </tr>\n",
       "    <tr>\n",
       "      <th>50%</th>\n",
       "      <td>1.446338e+09</td>\n",
       "      <td>1.000000</td>\n",
       "      <td>50.000000</td>\n",
       "      <td>3.000000</td>\n",
       "      <td>1175.000000</td>\n",
       "      <td>1113.000000</td>\n",
       "      <td>11.000000</td>\n",
       "      <td>0.000000</td>\n",
       "      <td>0.000000</td>\n",
       "      <td>8.000000</td>\n",
       "      <td>...</td>\n",
       "      <td>3.000000</td>\n",
       "      <td>2.000000</td>\n",
       "      <td>1.000000</td>\n",
       "      <td>-16.000000</td>\n",
       "      <td>2268.000000</td>\n",
       "      <td>1.000000</td>\n",
       "      <td>1824.000000</td>\n",
       "      <td>1798.000000</td>\n",
       "      <td>63.000000</td>\n",
       "      <td>60.000000</td>\n",
       "    </tr>\n",
       "    <tr>\n",
       "      <th>75%</th>\n",
       "      <td>1.448829e+09</td>\n",
       "      <td>7.000000</td>\n",
       "      <td>75.000000</td>\n",
       "      <td>4.000000</td>\n",
       "      <td>1704.000000</td>\n",
       "      <td>1479.000000</td>\n",
       "      <td>19.000000</td>\n",
       "      <td>1.000000</td>\n",
       "      <td>1.000000</td>\n",
       "      <td>10.000000</td>\n",
       "      <td>...</td>\n",
       "      <td>4.000000</td>\n",
       "      <td>3.000000</td>\n",
       "      <td>1.000000</td>\n",
       "      <td>8.000000</td>\n",
       "      <td>2778.000000</td>\n",
       "      <td>1.000000</td>\n",
       "      <td>1974.000000</td>\n",
       "      <td>1974.000000</td>\n",
       "      <td>63.000000</td>\n",
       "      <td>63.000000</td>\n",
       "    </tr>\n",
       "    <tr>\n",
       "      <th>max</th>\n",
       "      <td>1.450313e+09</td>\n",
       "      <td>7.000000</td>\n",
       "      <td>112.000000</td>\n",
       "      <td>6.000000</td>\n",
       "      <td>3319.000000</td>\n",
       "      <td>4332.000000</td>\n",
       "      <td>47.000000</td>\n",
       "      <td>8.000000</td>\n",
       "      <td>5.000000</td>\n",
       "      <td>34.000000</td>\n",
       "      <td>...</td>\n",
       "      <td>9.000000</td>\n",
       "      <td>9.000000</td>\n",
       "      <td>13.000000</td>\n",
       "      <td>300.000000</td>\n",
       "      <td>8452.000000</td>\n",
       "      <td>1.000000</td>\n",
       "      <td>2047.000000</td>\n",
       "      <td>2047.000000</td>\n",
       "      <td>63.000000</td>\n",
       "      <td>63.000000</td>\n",
       "    </tr>\n",
       "  </tbody>\n",
       "</table>\n",
       "<p>8 rows × 108 columns</p>\n",
       "</div>"
      ],
      "text/plain": [
       "         start_time    lobby_type       r1_hero      r1_level         r1_xp  \\\n",
       "count  9.723000e+04  97230.000000  97230.000000  97230.000000  97230.000000   \n",
       "mean   1.444232e+09      2.630999     51.517104      3.442672   1233.405801   \n",
       "std    5.515393e+06      2.835761     32.564211      1.111741    566.588895   \n",
       "min    1.430199e+09      0.000000      1.000000      0.000000      0.000000   \n",
       "25%    1.440815e+09      1.000000     22.000000      3.000000    767.000000   \n",
       "50%    1.446338e+09      1.000000     50.000000      3.000000   1175.000000   \n",
       "75%    1.448829e+09      7.000000     75.000000      4.000000   1704.000000   \n",
       "max    1.450313e+09      7.000000    112.000000      6.000000   3319.000000   \n",
       "\n",
       "            r1_gold         r1_lh      r1_kills     r1_deaths      r1_items  \\\n",
       "count  97230.000000  97230.000000  97230.000000  97230.000000  97230.000000   \n",
       "mean    1147.899702     11.231996      0.357009      0.362285      8.271315   \n",
       "std      464.111662      9.041620      0.663889      0.626704      2.497575   \n",
       "min        0.000000      0.000000      0.000000      0.000000      0.000000   \n",
       "25%      746.000000      2.000000      0.000000      0.000000      7.000000   \n",
       "50%     1113.000000     11.000000      0.000000      0.000000      8.000000   \n",
       "75%     1479.000000     19.000000      1.000000      1.000000     10.000000   \n",
       "max     4332.000000     47.000000      8.000000      5.000000     34.000000   \n",
       "\n",
       "       ...  dire_boots_count  dire_ward_observer_count  \\\n",
       "count  ...      97230.000000              97230.000000   \n",
       "mean   ...          3.349553                  2.448339   \n",
       "std    ...          1.155609                  0.813459   \n",
       "min    ...          0.000000                  0.000000   \n",
       "25%    ...          3.000000                  2.000000   \n",
       "50%    ...          3.000000                  2.000000   \n",
       "75%    ...          4.000000                  3.000000   \n",
       "max    ...          9.000000                  9.000000   \n",
       "\n",
       "       dire_ward_sentry_count  dire_first_ward_time      duration  \\\n",
       "count            97230.000000          95404.000000  97230.000000   \n",
       "mean                 0.689119             -6.901922   2332.247886   \n",
       "std                  0.710122             40.701397    715.806850   \n",
       "min                  0.000000            -84.000000    900.000000   \n",
       "25%                  0.000000            -31.000000   1818.000000   \n",
       "50%                  1.000000            -16.000000   2268.000000   \n",
       "75%                  1.000000              8.000000   2778.000000   \n",
       "max                 13.000000            300.000000   8452.000000   \n",
       "\n",
       "        radiant_win  tower_status_radiant  tower_status_dire  \\\n",
       "count  97230.000000          97230.000000       97230.000000   \n",
       "mean       0.518503           1309.227790        1286.310820   \n",
       "std        0.499660            853.921365         851.009148   \n",
       "min        0.000000              0.000000           0.000000   \n",
       "25%        0.000000             36.000000         256.000000   \n",
       "50%        1.000000           1824.000000        1798.000000   \n",
       "75%        1.000000           1974.000000        1974.000000   \n",
       "max        1.000000           2047.000000        2047.000000   \n",
       "\n",
       "       barracks_status_radiant  barracks_status_dire  \n",
       "count             97230.000000          97230.000000  \n",
       "mean                 40.599095             41.337036  \n",
       "std                  27.871645             27.064873  \n",
       "min                   0.000000              0.000000  \n",
       "25%                   3.000000              3.000000  \n",
       "50%                  63.000000             60.000000  \n",
       "75%                  63.000000             63.000000  \n",
       "max                  63.000000             63.000000  \n",
       "\n",
       "[8 rows x 108 columns]"
      ]
     },
     "execution_count": 271,
     "metadata": {},
     "output_type": "execute_result"
    }
   ],
   "source": [
    "features.describe(include=\"all\")"
   ]
  },
  {
   "cell_type": "code",
   "execution_count": 272,
   "metadata": {},
   "outputs": [],
   "source": [
    "# Считаем таблицу с признаками из файла features.csv. \n",
    "# Удалим признаки, связанные с итогами матча\n",
    "X = features.drop(\n",
    "    ['duration','radiant_win', 'tower_status_radiant', 'tower_status_dire', 'barracks_status_dire', 'barracks_status_radiant'], axis=1)"
   ]
  },
  {
   "cell_type": "code",
   "execution_count": 273,
   "metadata": {},
   "outputs": [
    {
     "data": {
      "text/plain": [
       "Index(['first_blood_time', 'first_blood_team', 'first_blood_player1',\n",
       "       'first_blood_player2', 'radiant_bottle_time', 'radiant_courier_time',\n",
       "       'radiant_flying_courier_time', 'radiant_first_ward_time',\n",
       "       'dire_bottle_time', 'dire_courier_time', 'dire_flying_courier_time',\n",
       "       'dire_first_ward_time'],\n",
       "      dtype='object')"
      ]
     },
     "execution_count": 273,
     "metadata": {},
     "output_type": "execute_result"
    }
   ],
   "source": [
    "# Колонки с пустыми значениями\n",
    "null_colls = X.columns[X.isnull().sum()>0]; null_colls"
   ]
  },
  {
   "cell_type": "markdown",
   "metadata": {},
   "source": [
    "Большая часть - это просто события которые не успели произойти в первые 5 минут - логичнее заменять их не на средние значение - а оставить факт пустого поля как фичу. Для деревьев нельзя оставлять nan - заменяем на значение которое отличается от среднего - просто ставим значение за пределами 5 минут."
   ]
  },
  {
   "cell_type": "code",
   "execution_count": 31,
   "metadata": {},
   "outputs": [
    {
     "data": {
      "text/html": [
       "<div>\n",
       "<style scoped>\n",
       "    .dataframe tbody tr th:only-of-type {\n",
       "        vertical-align: middle;\n",
       "    }\n",
       "\n",
       "    .dataframe tbody tr th {\n",
       "        vertical-align: top;\n",
       "    }\n",
       "\n",
       "    .dataframe thead th {\n",
       "        text-align: right;\n",
       "    }\n",
       "</style>\n",
       "<table border=\"1\" class=\"dataframe\">\n",
       "  <thead>\n",
       "    <tr style=\"text-align: right;\">\n",
       "      <th></th>\n",
       "      <th>first_blood_time</th>\n",
       "      <th>first_blood_team</th>\n",
       "      <th>first_blood_player1</th>\n",
       "      <th>first_blood_player2</th>\n",
       "      <th>radiant_bottle_time</th>\n",
       "      <th>radiant_courier_time</th>\n",
       "      <th>radiant_flying_courier_time</th>\n",
       "      <th>radiant_first_ward_time</th>\n",
       "      <th>dire_bottle_time</th>\n",
       "      <th>dire_courier_time</th>\n",
       "      <th>dire_flying_courier_time</th>\n",
       "      <th>dire_first_ward_time</th>\n",
       "    </tr>\n",
       "  </thead>\n",
       "  <tbody>\n",
       "    <tr>\n",
       "      <th>count</th>\n",
       "      <td>77677.000000</td>\n",
       "      <td>77677.000000</td>\n",
       "      <td>77677.000000</td>\n",
       "      <td>53243.000000</td>\n",
       "      <td>81539.000000</td>\n",
       "      <td>96538.000000</td>\n",
       "      <td>69751.000000</td>\n",
       "      <td>95394.000000</td>\n",
       "      <td>81087.000000</td>\n",
       "      <td>96554.000000</td>\n",
       "      <td>71132.000000</td>\n",
       "      <td>95404.000000</td>\n",
       "    </tr>\n",
       "    <tr>\n",
       "      <th>mean</th>\n",
       "      <td>97.688029</td>\n",
       "      <td>0.521815</td>\n",
       "      <td>4.593483</td>\n",
       "      <td>4.383224</td>\n",
       "      <td>126.800255</td>\n",
       "      <td>-80.059510</td>\n",
       "      <td>215.987126</td>\n",
       "      <td>-6.875747</td>\n",
       "      <td>127.215028</td>\n",
       "      <td>-80.191893</td>\n",
       "      <td>214.870536</td>\n",
       "      <td>-6.901922</td>\n",
       "    </tr>\n",
       "    <tr>\n",
       "      <th>std</th>\n",
       "      <td>82.625879</td>\n",
       "      <td>0.499527</td>\n",
       "      <td>2.886984</td>\n",
       "      <td>2.870915</td>\n",
       "      <td>61.427907</td>\n",
       "      <td>15.814209</td>\n",
       "      <td>34.604997</td>\n",
       "      <td>39.508650</td>\n",
       "      <td>62.442018</td>\n",
       "      <td>15.261950</td>\n",
       "      <td>34.137158</td>\n",
       "      <td>40.701397</td>\n",
       "    </tr>\n",
       "    <tr>\n",
       "      <th>min</th>\n",
       "      <td>-78.000000</td>\n",
       "      <td>0.000000</td>\n",
       "      <td>0.000000</td>\n",
       "      <td>0.000000</td>\n",
       "      <td>-37.000000</td>\n",
       "      <td>-90.000000</td>\n",
       "      <td>180.000000</td>\n",
       "      <td>-236.000000</td>\n",
       "      <td>-45.000000</td>\n",
       "      <td>-90.000000</td>\n",
       "      <td>180.000000</td>\n",
       "      <td>-84.000000</td>\n",
       "    </tr>\n",
       "    <tr>\n",
       "      <th>25%</th>\n",
       "      <td>15.000000</td>\n",
       "      <td>0.000000</td>\n",
       "      <td>2.000000</td>\n",
       "      <td>2.000000</td>\n",
       "      <td>84.000000</td>\n",
       "      <td>-86.000000</td>\n",
       "      <td>186.000000</td>\n",
       "      <td>-31.000000</td>\n",
       "      <td>83.000000</td>\n",
       "      <td>-86.000000</td>\n",
       "      <td>185.000000</td>\n",
       "      <td>-31.000000</td>\n",
       "    </tr>\n",
       "    <tr>\n",
       "      <th>50%</th>\n",
       "      <td>93.000000</td>\n",
       "      <td>1.000000</td>\n",
       "      <td>5.000000</td>\n",
       "      <td>4.000000</td>\n",
       "      <td>131.000000</td>\n",
       "      <td>-83.000000</td>\n",
       "      <td>204.000000</td>\n",
       "      <td>-15.000000</td>\n",
       "      <td>131.000000</td>\n",
       "      <td>-84.000000</td>\n",
       "      <td>203.000000</td>\n",
       "      <td>-16.000000</td>\n",
       "    </tr>\n",
       "    <tr>\n",
       "      <th>75%</th>\n",
       "      <td>155.000000</td>\n",
       "      <td>1.000000</td>\n",
       "      <td>7.000000</td>\n",
       "      <td>7.000000</td>\n",
       "      <td>164.000000</td>\n",
       "      <td>-79.000000</td>\n",
       "      <td>241.000000</td>\n",
       "      <td>9.000000</td>\n",
       "      <td>165.000000</td>\n",
       "      <td>-79.000000</td>\n",
       "      <td>238.000000</td>\n",
       "      <td>8.000000</td>\n",
       "    </tr>\n",
       "    <tr>\n",
       "      <th>max</th>\n",
       "      <td>300.000000</td>\n",
       "      <td>1.000000</td>\n",
       "      <td>9.000000</td>\n",
       "      <td>9.000000</td>\n",
       "      <td>300.000000</td>\n",
       "      <td>300.000000</td>\n",
       "      <td>300.000000</td>\n",
       "      <td>300.000000</td>\n",
       "      <td>300.000000</td>\n",
       "      <td>296.000000</td>\n",
       "      <td>300.000000</td>\n",
       "      <td>300.000000</td>\n",
       "    </tr>\n",
       "  </tbody>\n",
       "</table>\n",
       "</div>"
      ],
      "text/plain": [
       "       first_blood_time  first_blood_team  first_blood_player1  \\\n",
       "count      77677.000000      77677.000000         77677.000000   \n",
       "mean          97.688029          0.521815             4.593483   \n",
       "std           82.625879          0.499527             2.886984   \n",
       "min          -78.000000          0.000000             0.000000   \n",
       "25%           15.000000          0.000000             2.000000   \n",
       "50%           93.000000          1.000000             5.000000   \n",
       "75%          155.000000          1.000000             7.000000   \n",
       "max          300.000000          1.000000             9.000000   \n",
       "\n",
       "       first_blood_player2  radiant_bottle_time  radiant_courier_time  \\\n",
       "count         53243.000000         81539.000000          96538.000000   \n",
       "mean              4.383224           126.800255            -80.059510   \n",
       "std               2.870915            61.427907             15.814209   \n",
       "min               0.000000           -37.000000            -90.000000   \n",
       "25%               2.000000            84.000000            -86.000000   \n",
       "50%               4.000000           131.000000            -83.000000   \n",
       "75%               7.000000           164.000000            -79.000000   \n",
       "max               9.000000           300.000000            300.000000   \n",
       "\n",
       "       radiant_flying_courier_time  radiant_first_ward_time  dire_bottle_time  \\\n",
       "count                 69751.000000             95394.000000      81087.000000   \n",
       "mean                    215.987126                -6.875747        127.215028   \n",
       "std                      34.604997                39.508650         62.442018   \n",
       "min                     180.000000              -236.000000        -45.000000   \n",
       "25%                     186.000000               -31.000000         83.000000   \n",
       "50%                     204.000000               -15.000000        131.000000   \n",
       "75%                     241.000000                 9.000000        165.000000   \n",
       "max                     300.000000               300.000000        300.000000   \n",
       "\n",
       "       dire_courier_time  dire_flying_courier_time  dire_first_ward_time  \n",
       "count       96554.000000              71132.000000          95404.000000  \n",
       "mean          -80.191893                214.870536             -6.901922  \n",
       "std            15.261950                 34.137158             40.701397  \n",
       "min           -90.000000                180.000000            -84.000000  \n",
       "25%           -86.000000                185.000000            -31.000000  \n",
       "50%           -84.000000                203.000000            -16.000000  \n",
       "75%           -79.000000                238.000000              8.000000  \n",
       "max           296.000000                300.000000            300.000000  "
      ]
     },
     "execution_count": 31,
     "metadata": {},
     "output_type": "execute_result"
    }
   ],
   "source": [
    "X[null_colls].describe()"
   ]
  },
  {
   "cell_type": "code",
   "execution_count": 34,
   "metadata": {},
   "outputs": [],
   "source": [
    "X.fillna(value=1_000_000, inplace=True)"
   ]
  },
  {
   "cell_type": "code",
   "execution_count": 69,
   "metadata": {},
   "outputs": [],
   "source": [
    "# Целевая переменная\n",
    "y = features['radiant_win']"
   ]
  },
  {
   "cell_type": "markdown",
   "metadata": {},
   "source": [
    "Оценивать алгоритмы будем с помощью кросс-валидации с шаффлом - матчи не зависят друг от друга по времени"
   ]
  },
  {
   "cell_type": "code",
   "execution_count": 38,
   "metadata": {},
   "outputs": [],
   "source": [
    "from sklearn.model_selection import KFold"
   ]
  },
  {
   "cell_type": "code",
   "execution_count": 57,
   "metadata": {},
   "outputs": [],
   "source": [
    "cv = KFold(shuffle=True, random_state=42)"
   ]
  },
  {
   "cell_type": "markdown",
   "metadata": {},
   "source": [
    "### Градиентный бустинг"
   ]
  },
  {
   "cell_type": "code",
   "execution_count": 40,
   "metadata": {},
   "outputs": [],
   "source": [
    "from sklearn.ensemble import GradientBoostingClassifier"
   ]
  },
  {
   "cell_type": "code",
   "execution_count": 43,
   "metadata": {},
   "outputs": [],
   "source": [
    "from sklearn.model_selection import cross_val_score"
   ]
  },
  {
   "cell_type": "code",
   "execution_count": 63,
   "metadata": {},
   "outputs": [],
   "source": [
    "import time\n",
    "import datetime"
   ]
  },
  {
   "cell_type": "code",
   "execution_count": 68,
   "metadata": {},
   "outputs": [
    {
     "name": "stdout",
     "output_type": "stream",
     "text": [
      "Num trees:  1 ROC AUC avg:  0.5921867014628291 Time elapsed: 0:00:04.693902\n",
      "Num trees:  5 ROC AUC avg:  0.6369304208832456 Time elapsed: 0:00:20.084035\n",
      "Num trees:  10 ROC AUC avg:  0.6660340264507757 Time elapsed: 0:00:40.067739\n",
      "Num trees:  20 ROC AUC avg:  0.6834568680262606 Time elapsed: 0:01:21.195295\n",
      "Num trees:  30 ROC AUC avg:  0.6899489423233114 Time elapsed: 0:02:03.643132\n",
      "Num trees:  40 ROC AUC avg:  0.6943471950732155 Time elapsed: 0:02:45.497876\n"
     ]
    }
   ],
   "source": [
    "for num_trees in [1, 5, 10, 20, 30, 40]:\n",
    "    start_time = datetime.datetime.now()\n",
    "    cls = GradientBoostingClassifier(n_estimators=num_trees)\n",
    "    cross_val = cross_val_score(cls, X, y, cv=cv, scoring='roc_auc')\n",
    "    print(\"Num trees: \", num_trees, \"ROC AUC avg: \", np.average(cross_val), 'Time elapsed:', datetime.datetime.now() - start_time)"
   ]
  },
  {
   "cell_type": "markdown",
   "metadata": {},
   "source": [
    "Обучение с градиентным бустингом на 30 деревьях заняло 2 минуты - ROC-AUC 0.68. С ростом кол-ва деревьев качество растет - но растет и время обучения."
   ]
  },
  {
   "cell_type": "markdown",
   "metadata": {},
   "source": [
    "Для ускорения можно попробовать уменьшить глубину деревьев или сократить размер выборки"
   ]
  },
  {
   "cell_type": "code",
   "execution_count": null,
   "metadata": {},
   "outputs": [],
   "source": [
    "Для ускорения можно попробовать уменьшить глубину деревьев или сократить размер выборки"
   ]
  },
  {
   "cell_type": "code",
   "execution_count": 73,
   "metadata": {},
   "outputs": [
    {
     "name": "stdout",
     "output_type": "stream",
     "text": [
      "Num trees:  40 ROC AUC avg:  0.6893416543397144 Time elapsed: 0:01:39.659411\n"
     ]
    }
   ],
   "source": [
    "num_trees = 40\n",
    "start_time = datetime.datetime.now()\n",
    "cls = GradientBoostingClassifier(n_estimators=num_trees, max_depth=2)\n",
    "cross_val = cross_val_score(cls, X, y, cv=cv, scoring='roc_auc')\n",
    "print(\"Num trees: \", num_trees, \"ROC AUC avg: \", np.average(cross_val), 'Time elapsed:', datetime.datetime.now() - start_time)"
   ]
  },
  {
   "cell_type": "markdown",
   "metadata": {},
   "source": [
    "Получилось качество как при 30 деревьях - но при этом почти в полтора раз быстрее"
   ]
  },
  {
   "cell_type": "markdown",
   "metadata": {},
   "source": [
    "### Логистическая регресиия"
   ]
  },
  {
   "cell_type": "markdown",
   "metadata": {},
   "source": [
    "Регресиия плохо работает с признаками разного размаха - поэтому делаем предобработку данных - делаем нормализацию признаков."
   ]
  },
  {
   "cell_type": "code",
   "execution_count": 90,
   "metadata": {},
   "outputs": [],
   "source": [
    "from sklearn.preprocessing import StandardScaler"
   ]
  },
  {
   "cell_type": "code",
   "execution_count": 91,
   "metadata": {},
   "outputs": [],
   "source": [
    "X_scaled = StandardScaler().fit_transform(X)"
   ]
  },
  {
   "cell_type": "code",
   "execution_count": 274,
   "metadata": {},
   "outputs": [],
   "source": [
    "X_scaled_df = pd.DataFrame(X_scaled, index=X.index, columns=X.columns)"
   ]
  },
  {
   "cell_type": "code",
   "execution_count": 94,
   "metadata": {},
   "outputs": [],
   "source": [
    "from sklearn.linear_model import LogisticRegression"
   ]
  },
  {
   "cell_type": "code",
   "execution_count": 95,
   "metadata": {},
   "outputs": [
    {
     "name": "stdout",
     "output_type": "stream",
     "text": [
      "C:  0.001 ROC AUC avg:  0.7156041952303434 Time elapsed: 0:00:01.708015\n",
      "C:  0.01 ROC AUC avg:  0.7158122095189238 Time elapsed: 0:00:02.190793\n",
      "C:  0.1 ROC AUC avg:  0.7157883808878556 Time elapsed: 0:00:02.158844\n",
      "C:  1.0 ROC AUC avg:  0.7157863704385801 Time elapsed: 0:00:02.299518\n",
      "C:  10 ROC AUC avg:  0.7157865483247136 Time elapsed: 0:00:02.203682\n",
      "C:  100 ROC AUC avg:  0.715786255938961 Time elapsed: 0:00:02.391824\n"
     ]
    }
   ],
   "source": [
    "for reg in [0.001, 0.01, 0.1, 1.0, 10, 100]:\n",
    "    start_time = datetime.datetime.now()\n",
    "    cls = LogisticRegression(C=reg)\n",
    "    cross_val = cross_val_score(cls, X_scaled_df, y, cv=cv, scoring='roc_auc')\n",
    "    print(\"C: \", reg, \"ROC AUC avg: \", np.average(cross_val), 'Time elapsed:', datetime.datetime.now() - start_time)"
   ]
  },
  {
   "cell_type": "markdown",
   "metadata": {},
   "source": [
    "Наилучшее качество получилось при C=0.01 roc_auc = 0.71581 - что выше чем у градиентного бустинга - и в несколько раз быстрее - 2 минуты у бустинга против 2 секунд у регрессии.\n",
    "Разница в качестве может быть объяснена большим кол-вом признаков - часть из которых не влияет на реузультат - вероятно градиентный бустинг плохо это улавливает."
   ]
  },
  {
   "cell_type": "markdown",
   "metadata": {},
   "source": [
    "Мы использовали категориальные признаки как числовые - что не очень хорошо - так как линейный алгоритм начинает учитывать расстояние между значениями признака. Попробуем убрать категориальные признаки совсем и проверить качество."
   ]
  },
  {
   "cell_type": "code",
   "execution_count": 97,
   "metadata": {},
   "outputs": [],
   "source": [
    "X_wot_cat = X_scaled_df.drop(['lobby_type', 'r1_hero', 'r2_hero', \n",
    "                              'r3_hero', 'r4_hero', 'r5_hero', 'd1_hero', 'd2_hero', \n",
    "                              'd3_hero', 'd4_hero', 'd5_hero'], axis=1)"
   ]
  },
  {
   "cell_type": "code",
   "execution_count": 98,
   "metadata": {},
   "outputs": [
    {
     "name": "stdout",
     "output_type": "stream",
     "text": [
      "C:  0.001 ROC AUC avg:  0.7156309721332736 Time elapsed: 0:00:01.578485\n",
      "C:  0.01 ROC AUC avg:  0.7158340794594586 Time elapsed: 0:00:02.039179\n",
      "C:  0.1 ROC AUC avg:  0.7158133379331005 Time elapsed: 0:00:02.138344\n",
      "C:  1.0 ROC AUC avg:  0.7158104102155597 Time elapsed: 0:00:02.249685\n",
      "C:  10 ROC AUC avg:  0.7158095438217161 Time elapsed: 0:00:02.192774\n",
      "C:  100 ROC AUC avg:  0.7158094823629536 Time elapsed: 0:00:02.177348\n"
     ]
    }
   ],
   "source": [
    "for reg in [0.001, 0.01, 0.1, 1.0, 10, 100]:\n",
    "    start_time = datetime.datetime.now()\n",
    "    cls = LogisticRegression(C=reg)\n",
    "    cross_val = cross_val_score(cls, X_wot_cat, y, cv=cv, scoring='roc_auc')\n",
    "    print(\"C: \", reg, \"ROC AUC avg: \", np.average(cross_val), 'Time elapsed:', datetime.datetime.now() - start_time)"
   ]
  },
  {
   "cell_type": "markdown",
   "metadata": {},
   "source": [
    "Как мы видим - качество даже повысилось до 0.71583 - вероятно это можно объяснить тем, что алгоритм некорректно использует числовое расстояние между значениями категориального признака - которое не отражает зависимость реального мира."
   ]
  },
  {
   "cell_type": "code",
   "execution_count": 147,
   "metadata": {},
   "outputs": [],
   "source": [
    "heroes = pd.read_csv('/Users/kuptservol/.datasets/dota-2-win-probability-prediction/dictionaries/heroes.csv')"
   ]
  },
  {
   "cell_type": "code",
   "execution_count": 150,
   "metadata": {},
   "outputs": [
    {
     "data": {
      "text/plain": [
       "112"
      ]
     },
     "execution_count": 150,
     "metadata": {},
     "output_type": "execute_result"
    }
   ],
   "source": [
    "# Кол-во уникальных значений идентификаторов героев\n",
    "N = len(heroes); N"
   ]
  },
  {
   "cell_type": "markdown",
   "metadata": {},
   "source": [
    "Начнем использовать категориальные признаки в виде \"one hot encoding\""
   ]
  },
  {
   "cell_type": "code",
   "execution_count": 151,
   "metadata": {},
   "outputs": [],
   "source": [
    "X_pick = np.zeros((X.shape[0], N))\n",
    "\n",
    "for i, match_id in enumerate(X.index):\n",
    "    for p in range(5):\n",
    "        X_pick[i, X['r%d_hero' % (p+1)][match_id]-1] = 1\n",
    "        X_pick[i, X['d%d_hero' % (p+1)][match_id]-1] = -1"
   ]
  },
  {
   "cell_type": "code",
   "execution_count": 164,
   "metadata": {},
   "outputs": [
    {
     "data": {
      "text/plain": [
       "(97230, 112)"
      ]
     },
     "execution_count": 164,
     "metadata": {},
     "output_type": "execute_result"
    }
   ],
   "source": [
    "X_pick.shape"
   ]
  },
  {
   "cell_type": "code",
   "execution_count": 185,
   "metadata": {},
   "outputs": [],
   "source": [
    "X_with_cat_scaled = X.drop(['lobby_type', 'r1_hero', 'r2_hero', \n",
    "                              'r3_hero', 'r4_hero', 'r5_hero', 'd1_hero', 'd2_hero', \n",
    "                              'd3_hero', 'd4_hero', 'd5_hero'], axis=1)"
   ]
  },
  {
   "cell_type": "code",
   "execution_count": 186,
   "metadata": {},
   "outputs": [
    {
     "data": {
      "text/plain": [
       "(97230, 112)"
      ]
     },
     "execution_count": 186,
     "metadata": {},
     "output_type": "execute_result"
    }
   ],
   "source": [
    "X_pick.shape"
   ]
  },
  {
   "cell_type": "code",
   "execution_count": 187,
   "metadata": {},
   "outputs": [
    {
     "data": {
      "text/plain": [
       "(97230, 91)"
      ]
     },
     "execution_count": 187,
     "metadata": {},
     "output_type": "execute_result"
    }
   ],
   "source": [
    "X_with_cat_scaled.values.shape"
   ]
  },
  {
   "cell_type": "code",
   "execution_count": 190,
   "metadata": {},
   "outputs": [],
   "source": [
    "X_with_cat_scaled = pd.DataFrame(np.hstack([X_wot_cat.values,X_pick]))"
   ]
  },
  {
   "cell_type": "code",
   "execution_count": 191,
   "metadata": {},
   "outputs": [
    {
     "data": {
      "text/plain": [
       "(97230, 203)"
      ]
     },
     "execution_count": 191,
     "metadata": {},
     "output_type": "execute_result"
    }
   ],
   "source": [
    "X_with_cat_scaled.shape"
   ]
  },
  {
   "cell_type": "code",
   "execution_count": 193,
   "metadata": {},
   "outputs": [
    {
     "name": "stdout",
     "output_type": "stream",
     "text": [
      "C:  0.001 ROC AUC avg:  0.7459758982415087 Time elapsed: 0:00:02.742952\n",
      "C:  0.01 ROC AUC avg:  0.7514023849846059 Time elapsed: 0:00:04.841362\n",
      "C:  0.1 ROC AUC avg:  0.7516026936887619 Time elapsed: 0:00:09.035607\n",
      "C:  1.0 ROC AUC avg:  0.7515853297183722 Time elapsed: 0:00:09.355071\n",
      "C:  10 ROC AUC avg:  0.7515832954098551 Time elapsed: 0:00:09.240704\n",
      "C:  100 ROC AUC avg:  0.7515820602648153 Time elapsed: 0:00:09.225738\n"
     ]
    }
   ],
   "source": [
    "for reg in [0.001, 0.01, 0.1, 1.0, 10, 100]:\n",
    "    start_time = datetime.datetime.now()\n",
    "    clf = LogisticRegression(C=reg, max_iter=1000)\n",
    "    cross_val = cross_val_score(clf, X_with_cat_scaled, y, cv=cv, scoring='roc_auc')\n",
    "    print(\"C: \", reg, \"ROC AUC avg: \", np.average(cross_val), 'Time elapsed:', datetime.datetime.now() - start_time)"
   ]
  },
  {
   "cell_type": "markdown",
   "metadata": {},
   "source": [
    "ROC-AUC увеличился до 0.75160"
   ]
  },
  {
   "cell_type": "markdown",
   "metadata": {},
   "source": [
    "### Делаем предсказание для финальной модели"
   ]
  },
  {
   "cell_type": "code",
   "execution_count": 246,
   "metadata": {},
   "outputs": [
    {
     "data": {
      "text/plain": [
       "LogisticRegression(C=0.1, class_weight=None, dual=False, fit_intercept=True,\n",
       "                   intercept_scaling=1, l1_ratio=None, max_iter=1000,\n",
       "                   multi_class='auto', n_jobs=None, penalty='l2',\n",
       "                   random_state=None, solver='lbfgs', tol=0.0001, verbose=0,\n",
       "                   warm_start=False)"
      ]
     },
     "execution_count": 246,
     "metadata": {},
     "output_type": "execute_result"
    }
   ],
   "source": [
    "# фиксируем финальную модель\n",
    "clf = LogisticRegression(C=0.1, max_iter=1000)\n",
    "clf.fit(X_with_cat_scaled, y)"
   ]
  },
  {
   "cell_type": "markdown",
   "metadata": {},
   "source": [
    "Делаем препроцессинг аналогичный train-сету"
   ]
  },
  {
   "cell_type": "code",
   "execution_count": 218,
   "metadata": {},
   "outputs": [],
   "source": [
    "X_test = pd.read_csv('/Users/kuptservol/.datasets/dota-2-win-probability-prediction/test_features.csv', index_col='match_id')"
   ]
  },
  {
   "cell_type": "code",
   "execution_count": 219,
   "metadata": {},
   "outputs": [
    {
     "data": {
      "text/html": [
       "<div>\n",
       "<style scoped>\n",
       "    .dataframe tbody tr th:only-of-type {\n",
       "        vertical-align: middle;\n",
       "    }\n",
       "\n",
       "    .dataframe tbody tr th {\n",
       "        vertical-align: top;\n",
       "    }\n",
       "\n",
       "    .dataframe thead th {\n",
       "        text-align: right;\n",
       "    }\n",
       "</style>\n",
       "<table border=\"1\" class=\"dataframe\">\n",
       "  <thead>\n",
       "    <tr style=\"text-align: right;\">\n",
       "      <th></th>\n",
       "      <th>start_time</th>\n",
       "      <th>lobby_type</th>\n",
       "      <th>r1_hero</th>\n",
       "      <th>r1_level</th>\n",
       "      <th>r1_xp</th>\n",
       "      <th>r1_gold</th>\n",
       "      <th>r1_lh</th>\n",
       "      <th>r1_kills</th>\n",
       "      <th>r1_deaths</th>\n",
       "      <th>r1_items</th>\n",
       "      <th>...</th>\n",
       "      <th>radiant_ward_sentry_count</th>\n",
       "      <th>radiant_first_ward_time</th>\n",
       "      <th>dire_bottle_time</th>\n",
       "      <th>dire_courier_time</th>\n",
       "      <th>dire_flying_courier_time</th>\n",
       "      <th>dire_tpscroll_count</th>\n",
       "      <th>dire_boots_count</th>\n",
       "      <th>dire_ward_observer_count</th>\n",
       "      <th>dire_ward_sentry_count</th>\n",
       "      <th>dire_first_ward_time</th>\n",
       "    </tr>\n",
       "    <tr>\n",
       "      <th>match_id</th>\n",
       "      <th></th>\n",
       "      <th></th>\n",
       "      <th></th>\n",
       "      <th></th>\n",
       "      <th></th>\n",
       "      <th></th>\n",
       "      <th></th>\n",
       "      <th></th>\n",
       "      <th></th>\n",
       "      <th></th>\n",
       "      <th></th>\n",
       "      <th></th>\n",
       "      <th></th>\n",
       "      <th></th>\n",
       "      <th></th>\n",
       "      <th></th>\n",
       "      <th></th>\n",
       "      <th></th>\n",
       "      <th></th>\n",
       "      <th></th>\n",
       "      <th></th>\n",
       "    </tr>\n",
       "  </thead>\n",
       "  <tbody>\n",
       "    <tr>\n",
       "      <th>6</th>\n",
       "      <td>1430287923</td>\n",
       "      <td>0</td>\n",
       "      <td>93</td>\n",
       "      <td>4</td>\n",
       "      <td>1103</td>\n",
       "      <td>1089</td>\n",
       "      <td>8</td>\n",
       "      <td>0</td>\n",
       "      <td>1</td>\n",
       "      <td>9</td>\n",
       "      <td>...</td>\n",
       "      <td>0</td>\n",
       "      <td>12.0</td>\n",
       "      <td>247.0</td>\n",
       "      <td>-86.0</td>\n",
       "      <td>272.0</td>\n",
       "      <td>3</td>\n",
       "      <td>4</td>\n",
       "      <td>2</td>\n",
       "      <td>0</td>\n",
       "      <td>118.0</td>\n",
       "    </tr>\n",
       "    <tr>\n",
       "      <th>7</th>\n",
       "      <td>1430293357</td>\n",
       "      <td>1</td>\n",
       "      <td>20</td>\n",
       "      <td>2</td>\n",
       "      <td>556</td>\n",
       "      <td>570</td>\n",
       "      <td>1</td>\n",
       "      <td>0</td>\n",
       "      <td>0</td>\n",
       "      <td>9</td>\n",
       "      <td>...</td>\n",
       "      <td>2</td>\n",
       "      <td>-29.0</td>\n",
       "      <td>168.0</td>\n",
       "      <td>-54.0</td>\n",
       "      <td>NaN</td>\n",
       "      <td>3</td>\n",
       "      <td>2</td>\n",
       "      <td>2</td>\n",
       "      <td>1</td>\n",
       "      <td>16.0</td>\n",
       "    </tr>\n",
       "    <tr>\n",
       "      <th>10</th>\n",
       "      <td>1430301774</td>\n",
       "      <td>1</td>\n",
       "      <td>112</td>\n",
       "      <td>2</td>\n",
       "      <td>751</td>\n",
       "      <td>808</td>\n",
       "      <td>1</td>\n",
       "      <td>0</td>\n",
       "      <td>0</td>\n",
       "      <td>13</td>\n",
       "      <td>...</td>\n",
       "      <td>1</td>\n",
       "      <td>-22.0</td>\n",
       "      <td>46.0</td>\n",
       "      <td>-87.0</td>\n",
       "      <td>186.0</td>\n",
       "      <td>1</td>\n",
       "      <td>3</td>\n",
       "      <td>3</td>\n",
       "      <td>0</td>\n",
       "      <td>-34.0</td>\n",
       "    </tr>\n",
       "    <tr>\n",
       "      <th>13</th>\n",
       "      <td>1430323933</td>\n",
       "      <td>1</td>\n",
       "      <td>27</td>\n",
       "      <td>3</td>\n",
       "      <td>708</td>\n",
       "      <td>903</td>\n",
       "      <td>1</td>\n",
       "      <td>1</td>\n",
       "      <td>1</td>\n",
       "      <td>11</td>\n",
       "      <td>...</td>\n",
       "      <td>2</td>\n",
       "      <td>-49.0</td>\n",
       "      <td>30.0</td>\n",
       "      <td>-89.0</td>\n",
       "      <td>210.0</td>\n",
       "      <td>3</td>\n",
       "      <td>4</td>\n",
       "      <td>2</td>\n",
       "      <td>1</td>\n",
       "      <td>-26.0</td>\n",
       "    </tr>\n",
       "    <tr>\n",
       "      <th>16</th>\n",
       "      <td>1430331112</td>\n",
       "      <td>1</td>\n",
       "      <td>39</td>\n",
       "      <td>4</td>\n",
       "      <td>1259</td>\n",
       "      <td>661</td>\n",
       "      <td>4</td>\n",
       "      <td>0</td>\n",
       "      <td>0</td>\n",
       "      <td>9</td>\n",
       "      <td>...</td>\n",
       "      <td>0</td>\n",
       "      <td>36.0</td>\n",
       "      <td>180.0</td>\n",
       "      <td>-86.0</td>\n",
       "      <td>180.0</td>\n",
       "      <td>1</td>\n",
       "      <td>3</td>\n",
       "      <td>2</td>\n",
       "      <td>1</td>\n",
       "      <td>-33.0</td>\n",
       "    </tr>\n",
       "  </tbody>\n",
       "</table>\n",
       "<p>5 rows × 102 columns</p>\n",
       "</div>"
      ],
      "text/plain": [
       "          start_time  lobby_type  r1_hero  r1_level  r1_xp  r1_gold  r1_lh  \\\n",
       "match_id                                                                     \n",
       "6         1430287923           0       93         4   1103     1089      8   \n",
       "7         1430293357           1       20         2    556      570      1   \n",
       "10        1430301774           1      112         2    751      808      1   \n",
       "13        1430323933           1       27         3    708      903      1   \n",
       "16        1430331112           1       39         4   1259      661      4   \n",
       "\n",
       "          r1_kills  r1_deaths  r1_items  ...  radiant_ward_sentry_count  \\\n",
       "match_id                                 ...                              \n",
       "6                0          1         9  ...                          0   \n",
       "7                0          0         9  ...                          2   \n",
       "10               0          0        13  ...                          1   \n",
       "13               1          1        11  ...                          2   \n",
       "16               0          0         9  ...                          0   \n",
       "\n",
       "          radiant_first_ward_time  dire_bottle_time  dire_courier_time  \\\n",
       "match_id                                                                 \n",
       "6                            12.0             247.0              -86.0   \n",
       "7                           -29.0             168.0              -54.0   \n",
       "10                          -22.0              46.0              -87.0   \n",
       "13                          -49.0              30.0              -89.0   \n",
       "16                           36.0             180.0              -86.0   \n",
       "\n",
       "          dire_flying_courier_time  dire_tpscroll_count  dire_boots_count  \\\n",
       "match_id                                                                    \n",
       "6                            272.0                    3                 4   \n",
       "7                              NaN                    3                 2   \n",
       "10                           186.0                    1                 3   \n",
       "13                           210.0                    3                 4   \n",
       "16                           180.0                    1                 3   \n",
       "\n",
       "          dire_ward_observer_count  dire_ward_sentry_count  \\\n",
       "match_id                                                     \n",
       "6                                2                       0   \n",
       "7                                2                       1   \n",
       "10                               3                       0   \n",
       "13                               2                       1   \n",
       "16                               2                       1   \n",
       "\n",
       "          dire_first_ward_time  \n",
       "match_id                        \n",
       "6                        118.0  \n",
       "7                         16.0  \n",
       "10                       -34.0  \n",
       "13                       -26.0  \n",
       "16                       -33.0  \n",
       "\n",
       "[5 rows x 102 columns]"
      ]
     },
     "execution_count": 219,
     "metadata": {},
     "output_type": "execute_result"
    }
   ],
   "source": [
    "X_test.head()"
   ]
  },
  {
   "cell_type": "code",
   "execution_count": 230,
   "metadata": {},
   "outputs": [],
   "source": [
    "X_test.fillna(value=1_000_000, inplace=True)"
   ]
  },
  {
   "cell_type": "code",
   "execution_count": 231,
   "metadata": {},
   "outputs": [],
   "source": [
    "X_test_scaled = (pd.DataFrame(StandardScaler().fit_transform(X_test), \n",
    "                             index=X_test.index, columns=X_test.columns))"
   ]
  },
  {
   "cell_type": "code",
   "execution_count": 233,
   "metadata": {},
   "outputs": [],
   "source": [
    "X_test_scaled_wot_cat = X_test_scaled.drop(['lobby_type', 'r1_hero', 'r2_hero', \n",
    "                              'r3_hero', 'r4_hero', 'r5_hero', 'd1_hero', 'd2_hero', \n",
    "                              'd3_hero', 'd4_hero', 'd5_hero'], axis=1)"
   ]
  },
  {
   "cell_type": "code",
   "execution_count": 234,
   "metadata": {},
   "outputs": [
    {
     "data": {
      "text/plain": [
       "(17177, 91)"
      ]
     },
     "execution_count": 234,
     "metadata": {},
     "output_type": "execute_result"
    }
   ],
   "source": [
    "X_test_scaled_wot_cat.shape"
   ]
  },
  {
   "cell_type": "code",
   "execution_count": 235,
   "metadata": {},
   "outputs": [],
   "source": [
    "X_pick_test = np.zeros((X_test.shape[0], N))\n",
    "\n",
    "for i, match_id in enumerate(X_test.index):\n",
    "    for p in range(5):\n",
    "        X_pick_test[i, X_test['r%d_hero' % (p+1)][match_id]-1] = 1\n",
    "        X_pick_test[i, X_test['d%d_hero' % (p+1)][match_id]-1] = -1"
   ]
  },
  {
   "cell_type": "code",
   "execution_count": 236,
   "metadata": {},
   "outputs": [
    {
     "data": {
      "text/plain": [
       "(17177, 112)"
      ]
     },
     "execution_count": 236,
     "metadata": {},
     "output_type": "execute_result"
    }
   ],
   "source": [
    "X_pick_test.shape"
   ]
  },
  {
   "cell_type": "code",
   "execution_count": 243,
   "metadata": {},
   "outputs": [],
   "source": [
    "X_test_with_cat_scaled = pd.DataFrame(np.hstack([X_test_scaled_wot_cat.values,X_pick_test]))"
   ]
  },
  {
   "cell_type": "code",
   "execution_count": 247,
   "metadata": {},
   "outputs": [],
   "source": [
    "test_predicts = clf.predict_proba(X_test_with_cat_scaled)[:, 1]"
   ]
  },
  {
   "cell_type": "code",
   "execution_count": 249,
   "metadata": {},
   "outputs": [
    {
     "data": {
      "text/plain": [
       "(17177,)"
      ]
     },
     "execution_count": 249,
     "metadata": {},
     "output_type": "execute_result"
    }
   ],
   "source": [
    "test_predicts.shape"
   ]
  },
  {
   "cell_type": "code",
   "execution_count": null,
   "metadata": {},
   "outputs": [],
   "source": [
    "test_results = pd.DataFrame([''])"
   ]
  },
  {
   "cell_type": "markdown",
   "metadata": {},
   "source": [
    "### Заливаем решение на kaggle"
   ]
  },
  {
   "cell_type": "code",
   "execution_count": 258,
   "metadata": {},
   "outputs": [],
   "source": [
    "subm = pd.read_csv('/Users/kuptservol/.datasets/dota-2-win-probability-prediction/sample_submission.csv')"
   ]
  },
  {
   "cell_type": "code",
   "execution_count": 260,
   "metadata": {},
   "outputs": [],
   "source": [
    "subm.radiant_win = test_predicts"
   ]
  },
  {
   "cell_type": "code",
   "execution_count": 261,
   "metadata": {},
   "outputs": [
    {
     "data": {
      "text/html": [
       "<div>\n",
       "<style scoped>\n",
       "    .dataframe tbody tr th:only-of-type {\n",
       "        vertical-align: middle;\n",
       "    }\n",
       "\n",
       "    .dataframe tbody tr th {\n",
       "        vertical-align: top;\n",
       "    }\n",
       "\n",
       "    .dataframe thead th {\n",
       "        text-align: right;\n",
       "    }\n",
       "</style>\n",
       "<table border=\"1\" class=\"dataframe\">\n",
       "  <thead>\n",
       "    <tr style=\"text-align: right;\">\n",
       "      <th></th>\n",
       "      <th>match_id</th>\n",
       "      <th>radiant_win</th>\n",
       "    </tr>\n",
       "  </thead>\n",
       "  <tbody>\n",
       "    <tr>\n",
       "      <th>0</th>\n",
       "      <td>6</td>\n",
       "      <td>0.811416</td>\n",
       "    </tr>\n",
       "    <tr>\n",
       "      <th>1</th>\n",
       "      <td>7</td>\n",
       "      <td>0.749962</td>\n",
       "    </tr>\n",
       "    <tr>\n",
       "      <th>2</th>\n",
       "      <td>10</td>\n",
       "      <td>0.188183</td>\n",
       "    </tr>\n",
       "    <tr>\n",
       "      <th>3</th>\n",
       "      <td>13</td>\n",
       "      <td>0.870110</td>\n",
       "    </tr>\n",
       "    <tr>\n",
       "      <th>4</th>\n",
       "      <td>16</td>\n",
       "      <td>0.247553</td>\n",
       "    </tr>\n",
       "    <tr>\n",
       "      <th>...</th>\n",
       "      <td>...</td>\n",
       "      <td>...</td>\n",
       "    </tr>\n",
       "    <tr>\n",
       "      <th>17172</th>\n",
       "      <td>114369</td>\n",
       "      <td>0.716152</td>\n",
       "    </tr>\n",
       "    <tr>\n",
       "      <th>17173</th>\n",
       "      <td>114377</td>\n",
       "      <td>0.612581</td>\n",
       "    </tr>\n",
       "    <tr>\n",
       "      <th>17174</th>\n",
       "      <td>114378</td>\n",
       "      <td>0.236998</td>\n",
       "    </tr>\n",
       "    <tr>\n",
       "      <th>17175</th>\n",
       "      <td>114393</td>\n",
       "      <td>0.665357</td>\n",
       "    </tr>\n",
       "    <tr>\n",
       "      <th>17176</th>\n",
       "      <td>114398</td>\n",
       "      <td>0.426556</td>\n",
       "    </tr>\n",
       "  </tbody>\n",
       "</table>\n",
       "<p>17177 rows × 2 columns</p>\n",
       "</div>"
      ],
      "text/plain": [
       "       match_id  radiant_win\n",
       "0             6     0.811416\n",
       "1             7     0.749962\n",
       "2            10     0.188183\n",
       "3            13     0.870110\n",
       "4            16     0.247553\n",
       "...         ...          ...\n",
       "17172    114369     0.716152\n",
       "17173    114377     0.612581\n",
       "17174    114378     0.236998\n",
       "17175    114393     0.665357\n",
       "17176    114398     0.426556\n",
       "\n",
       "[17177 rows x 2 columns]"
      ]
     },
     "execution_count": 261,
     "metadata": {},
     "output_type": "execute_result"
    }
   ],
   "source": [
    "subm"
   ]
  },
  {
   "cell_type": "code",
   "execution_count": 262,
   "metadata": {},
   "outputs": [],
   "source": [
    "subm.to_csv('/tmp/dota-subm.csv', index=None)"
   ]
  },
  {
   "cell_type": "code",
   "execution_count": 268,
   "metadata": {},
   "outputs": [
    {
     "name": "stdout",
     "output_type": "stream",
     "text": [
      "Warning: Looks like you're using an outdated API Version, please consider updating (server 1.5.9 / client 1.5.8)\n",
      "100%|████████████████████████████████████████| 423k/423k [00:06<00:00, 63.8kB/s]\n",
      "Successfully submitted to Dota 2: Win Probability Prediction"
     ]
    }
   ],
   "source": [
    "! kaggle competitions submit -c dota-2-win-probability-prediction -f /tmp/dota-subm.csv -m 'first'"
   ]
  },
  {
   "cell_type": "code",
   "execution_count": 275,
   "metadata": {},
   "outputs": [
    {
     "data": {
      "text/plain": [
       "count    17177.000000\n",
       "mean         0.518297\n",
       "std          0.221170\n",
       "min          0.008333\n",
       "25%          0.346776\n",
       "50%          0.524121\n",
       "75%          0.692575\n",
       "max          0.996451\n",
       "Name: radiant_win, dtype: float64"
      ]
     },
     "execution_count": 275,
     "metadata": {},
     "output_type": "execute_result"
    }
   ],
   "source": [
    "subm['radiant_win'].describe()"
   ]
  },
  {
   "cell_type": "code",
   "execution_count": null,
   "metadata": {},
   "outputs": [],
   "source": []
  }
 ],
 "metadata": {
  "kernelspec": {
   "display_name": "Python 3",
   "language": "python",
   "name": "python3"
  },
  "language_info": {
   "codemirror_mode": {
    "name": "ipython",
    "version": 3
   },
   "file_extension": ".py",
   "mimetype": "text/x-python",
   "name": "python",
   "nbconvert_exporter": "python",
   "pygments_lexer": "ipython3",
   "version": "3.7.6"
  }
 },
 "nbformat": 4,
 "nbformat_minor": 4
}
