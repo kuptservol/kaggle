{
 "cells": [
  {
   "cell_type": "markdown",
   "metadata": {},
   "source": [
    "# Integer Sequence Learning\n",
    "Predict next integer in sequence\n",
    "\n",
    "https://www.kaggle.com/c/integer-sequence-learning/data"
   ]
  },
  {
   "cell_type": "code",
   "execution_count": 30,
   "metadata": {},
   "outputs": [],
   "source": [
    "%reload_ext autoreload\n",
    "%autoreload 2\n",
    "%matplotlib inline"
   ]
  },
  {
   "cell_type": "markdown",
   "metadata": {},
   "source": [
    "Attempt#1 RNN(GRU)\n",
    "consider sequences as text"
   ]
  },
  {
   "cell_type": "code",
   "execution_count": 31,
   "metadata": {},
   "outputs": [],
   "source": [
    "from fastai.text import *"
   ]
  },
  {
   "cell_type": "code",
   "execution_count": 32,
   "metadata": {},
   "outputs": [
    {
     "data": {
      "text/plain": [
       "PosixPath('/storage/integer-sequence')"
      ]
     },
     "execution_count": 32,
     "metadata": {},
     "output_type": "execute_result"
    }
   ],
   "source": [
    "path = Config.data_path()/'integer-sequence'\n",
    "path.mkdir(parents=True, exist_ok=True)\n",
    "path"
   ]
  },
  {
   "cell_type": "code",
   "execution_count": 4,
   "metadata": {},
   "outputs": [
    {
     "name": "stdout",
     "output_type": "stream",
     "text": [
      "Downloading sample_submission.csv.zip to /storage/integer-sequence\n",
      "  0%|                                                | 0.00/263k [00:00<?, ?B/s]\n",
      "100%|████████████████████████████████████████| 263k/263k [00:00<00:00, 34.9MB/s]\n",
      "Downloading test.csv.zip to /storage/integer-sequence\n",
      " 61%|███████████████████████▎              | 5.00M/8.14M [00:00<00:00, 27.3MB/s]\n",
      "100%|██████████████████████████████████████| 8.14M/8.14M [00:00<00:00, 36.5MB/s]\n",
      "Downloading train.csv.zip to /storage/integer-sequence\n",
      " 58%|█████████████████████▊                | 5.00M/8.69M [00:00<00:00, 44.4MB/s]\n",
      "100%|██████████████████████████████████████| 8.69M/8.69M [00:00<00:00, 49.1MB/s]\n"
     ]
    }
   ],
   "source": [
    "#! kaggle competitions download -c integer-sequence-learning -p {path} "
   ]
  },
  {
   "cell_type": "code",
   "execution_count": 29,
   "metadata": {},
   "outputs": [],
   "source": [
    "#! for z in *.zip; do unzip $z; rm $z; done"
   ]
  },
  {
   "cell_type": "code",
   "execution_count": 5,
   "metadata": {},
   "outputs": [
    {
     "name": "stdout",
     "output_type": "stream",
     "text": [
      "sample_submission.csv  test.csv  train.csv\r\n"
     ]
    }
   ],
   "source": [
    "! ls {path}"
   ]
  },
  {
   "cell_type": "code",
   "execution_count": 33,
   "metadata": {},
   "outputs": [
    {
     "data": {
      "text/html": [
       "<div>\n",
       "<style scoped>\n",
       "    .dataframe tbody tr th:only-of-type {\n",
       "        vertical-align: middle;\n",
       "    }\n",
       "\n",
       "    .dataframe tbody tr th {\n",
       "        vertical-align: top;\n",
       "    }\n",
       "\n",
       "    .dataframe thead th {\n",
       "        text-align: right;\n",
       "    }\n",
       "</style>\n",
       "<table border=\"1\" class=\"dataframe\">\n",
       "  <thead>\n",
       "    <tr style=\"text-align: right;\">\n",
       "      <th></th>\n",
       "      <th>Id</th>\n",
       "      <th>Sequence</th>\n",
       "    </tr>\n",
       "  </thead>\n",
       "  <tbody>\n",
       "    <tr>\n",
       "      <th>0</th>\n",
       "      <td>3</td>\n",
       "      <td>1,3,13,87,1053,28576,2141733,508147108,4021352...</td>\n",
       "    </tr>\n",
       "    <tr>\n",
       "      <th>1</th>\n",
       "      <td>7</td>\n",
       "      <td>1,2,1,5,5,1,11,16,7,1,23,44,30,9,1,47,112,104,...</td>\n",
       "    </tr>\n",
       "    <tr>\n",
       "      <th>2</th>\n",
       "      <td>8</td>\n",
       "      <td>1,2,4,5,8,10,16,20,32,40,64,80,128,160,256,320...</td>\n",
       "    </tr>\n",
       "    <tr>\n",
       "      <th>3</th>\n",
       "      <td>11</td>\n",
       "      <td>1,8,25,83,274,2275,132224,1060067,3312425,1099...</td>\n",
       "    </tr>\n",
       "    <tr>\n",
       "      <th>4</th>\n",
       "      <td>13</td>\n",
       "      <td>1,111,12211,1343211,147753211,16252853211,1787...</td>\n",
       "    </tr>\n",
       "  </tbody>\n",
       "</table>\n",
       "</div>"
      ],
      "text/plain": [
       "   Id                                           Sequence\n",
       "0   3  1,3,13,87,1053,28576,2141733,508147108,4021352...\n",
       "1   7  1,2,1,5,5,1,11,16,7,1,23,44,30,9,1,47,112,104,...\n",
       "2   8  1,2,4,5,8,10,16,20,32,40,64,80,128,160,256,320...\n",
       "3  11  1,8,25,83,274,2275,132224,1060067,3312425,1099...\n",
       "4  13  1,111,12211,1343211,147753211,16252853211,1787..."
      ]
     },
     "execution_count": 33,
     "metadata": {},
     "output_type": "execute_result"
    }
   ],
   "source": [
    "train_csv_pd = pd.read_csv(path/'train.csv'); train_csv_pd.head()"
   ]
  },
  {
   "cell_type": "code",
   "execution_count": 34,
   "metadata": {},
   "outputs": [
    {
     "data": {
      "text/html": [
       "<div>\n",
       "<style scoped>\n",
       "    .dataframe tbody tr th:only-of-type {\n",
       "        vertical-align: middle;\n",
       "    }\n",
       "\n",
       "    .dataframe tbody tr th {\n",
       "        vertical-align: top;\n",
       "    }\n",
       "\n",
       "    .dataframe thead th {\n",
       "        text-align: right;\n",
       "    }\n",
       "</style>\n",
       "<table border=\"1\" class=\"dataframe\">\n",
       "  <thead>\n",
       "    <tr style=\"text-align: right;\">\n",
       "      <th></th>\n",
       "      <th>Id</th>\n",
       "      <th>Sequence</th>\n",
       "    </tr>\n",
       "  </thead>\n",
       "  <tbody>\n",
       "    <tr>\n",
       "      <th>0</th>\n",
       "      <td>1</td>\n",
       "      <td>1,0,0,2,24,552,21280,103760,70299264,579285324...</td>\n",
       "    </tr>\n",
       "    <tr>\n",
       "      <th>1</th>\n",
       "      <td>2</td>\n",
       "      <td>1,1,5,11,35,93,269,747,2115,5933,16717,47003,1...</td>\n",
       "    </tr>\n",
       "    <tr>\n",
       "      <th>2</th>\n",
       "      <td>4</td>\n",
       "      <td>0,1,101,2,15,102,73,3,40,16,47,103,51,74,116,4...</td>\n",
       "    </tr>\n",
       "    <tr>\n",
       "      <th>3</th>\n",
       "      <td>5</td>\n",
       "      <td>1,4,14,23,42,33,35,34,63,66,87,116,84,101,126,...</td>\n",
       "    </tr>\n",
       "    <tr>\n",
       "      <th>4</th>\n",
       "      <td>6</td>\n",
       "      <td>1,1,2,5,4,2,6,13,11,4,10,10,12,6,8,29,16,11,18...</td>\n",
       "    </tr>\n",
       "  </tbody>\n",
       "</table>\n",
       "</div>"
      ],
      "text/plain": [
       "   Id                                           Sequence\n",
       "0   1  1,0,0,2,24,552,21280,103760,70299264,579285324...\n",
       "1   2  1,1,5,11,35,93,269,747,2115,5933,16717,47003,1...\n",
       "2   4  0,1,101,2,15,102,73,3,40,16,47,103,51,74,116,4...\n",
       "3   5  1,4,14,23,42,33,35,34,63,66,87,116,84,101,126,...\n",
       "4   6  1,1,2,5,4,2,6,13,11,4,10,10,12,6,8,29,16,11,18..."
      ]
     },
     "execution_count": 34,
     "metadata": {},
     "output_type": "execute_result"
    }
   ],
   "source": [
    "test_csv_pd = pd.read_csv(path/'test.csv'); test_csv_pd.head()"
   ]
  },
  {
   "cell_type": "code",
   "execution_count": 26,
   "metadata": {},
   "outputs": [
    {
     "data": {
      "text/html": [
       "<div>\n",
       "<style scoped>\n",
       "    .dataframe tbody tr th:only-of-type {\n",
       "        vertical-align: middle;\n",
       "    }\n",
       "\n",
       "    .dataframe tbody tr th {\n",
       "        vertical-align: top;\n",
       "    }\n",
       "\n",
       "    .dataframe thead th {\n",
       "        text-align: right;\n",
       "    }\n",
       "</style>\n",
       "<table border=\"1\" class=\"dataframe\">\n",
       "  <thead>\n",
       "    <tr style=\"text-align: right;\">\n",
       "      <th></th>\n",
       "      <th>Id</th>\n",
       "      <th>Sequence</th>\n",
       "    </tr>\n",
       "  </thead>\n",
       "  <tbody>\n",
       "    <tr>\n",
       "      <th>0</th>\n",
       "      <td>3</td>\n",
       "      <td>1,3,13,87,1053,28576,2141733,508147108,4021352...</td>\n",
       "    </tr>\n",
       "    <tr>\n",
       "      <th>1</th>\n",
       "      <td>7</td>\n",
       "      <td>1,2,1,5,5,1,11,16,7,1,23,44,30,9,1,47,112,104,...</td>\n",
       "    </tr>\n",
       "    <tr>\n",
       "      <th>2</th>\n",
       "      <td>8</td>\n",
       "      <td>1,2,4,5,8,10,16,20,32,40,64,80,128,160,256,320...</td>\n",
       "    </tr>\n",
       "    <tr>\n",
       "      <th>3</th>\n",
       "      <td>11</td>\n",
       "      <td>1,8,25,83,274,2275,132224,1060067,3312425,1099...</td>\n",
       "    </tr>\n",
       "    <tr>\n",
       "      <th>4</th>\n",
       "      <td>13</td>\n",
       "      <td>1,111,12211,1343211,147753211,16252853211,1787...</td>\n",
       "    </tr>\n",
       "  </tbody>\n",
       "</table>\n",
       "</div>"
      ],
      "text/plain": [
       "   Id                                           Sequence\n",
       "0   3  1,3,13,87,1053,28576,2141733,508147108,4021352...\n",
       "1   7  1,2,1,5,5,1,11,16,7,1,23,44,30,9,1,47,112,104,...\n",
       "2   8  1,2,4,5,8,10,16,20,32,40,64,80,128,160,256,320...\n",
       "3  11  1,8,25,83,274,2275,132224,1060067,3312425,1099...\n",
       "4  13  1,111,12211,1343211,147753211,16252853211,1787..."
      ]
     },
     "execution_count": 26,
     "metadata": {},
     "output_type": "execute_result"
    }
   ],
   "source": [
    "train_csv_small_pd = train_csv_pd[0:5]; train_csv_small_pd"
   ]
  },
  {
   "cell_type": "code",
   "execution_count": 28,
   "metadata": {},
   "outputs": [
    {
     "name": "stderr",
     "output_type": "stream",
     "text": [
      "/opt/conda/envs/fastai/lib/python3.6/site-packages/ipykernel_launcher.py:1: SettingWithCopyWarning: \n",
      "A value is trying to be set on a copy of a slice from a DataFrame.\n",
      "Try using .loc[row_indexer,col_indexer] = value instead\n",
      "\n",
      "See the caveats in the documentation: http://pandas.pydata.org/pandas-docs/stable/indexing.html#indexing-view-versus-copy\n",
      "  \"\"\"Entry point for launching an IPython kernel.\n"
     ]
    },
    {
     "data": {
      "text/html": [
       "<div>\n",
       "<style scoped>\n",
       "    .dataframe tbody tr th:only-of-type {\n",
       "        vertical-align: middle;\n",
       "    }\n",
       "\n",
       "    .dataframe tbody tr th {\n",
       "        vertical-align: top;\n",
       "    }\n",
       "\n",
       "    .dataframe thead th {\n",
       "        text-align: right;\n",
       "    }\n",
       "</style>\n",
       "<table border=\"1\" class=\"dataframe\">\n",
       "  <thead>\n",
       "    <tr style=\"text-align: right;\">\n",
       "      <th></th>\n",
       "      <th>Id</th>\n",
       "      <th>Sequence</th>\n",
       "      <th>Seq</th>\n",
       "    </tr>\n",
       "  </thead>\n",
       "  <tbody>\n",
       "    <tr>\n",
       "      <th>0</th>\n",
       "      <td>3</td>\n",
       "      <td>1,3,13,87,1053,28576,2141733,508147108,4021352...</td>\n",
       "      <td>1 3 13 87 1053 28576 2141733 508147108 4021352...</td>\n",
       "    </tr>\n",
       "    <tr>\n",
       "      <th>1</th>\n",
       "      <td>7</td>\n",
       "      <td>1,2,1,5,5,1,11,16,7,1,23,44,30,9,1,47,112,104,...</td>\n",
       "      <td>1 2 1 5 5 1 11 16 7 1 23 44 30 9 1 47 112 104 ...</td>\n",
       "    </tr>\n",
       "    <tr>\n",
       "      <th>2</th>\n",
       "      <td>8</td>\n",
       "      <td>1,2,4,5,8,10,16,20,32,40,64,80,128,160,256,320...</td>\n",
       "      <td>1 2 4 5 8 10 16 20 32 40 64 80 128 160 256 320...</td>\n",
       "    </tr>\n",
       "    <tr>\n",
       "      <th>3</th>\n",
       "      <td>11</td>\n",
       "      <td>1,8,25,83,274,2275,132224,1060067,3312425,1099...</td>\n",
       "      <td>1 8 25 83 274 2275 132224 1060067 3312425 1099...</td>\n",
       "    </tr>\n",
       "    <tr>\n",
       "      <th>4</th>\n",
       "      <td>13</td>\n",
       "      <td>1,111,12211,1343211,147753211,16252853211,1787...</td>\n",
       "      <td>1 111 12211 1343211 147753211 16252853211 1787...</td>\n",
       "    </tr>\n",
       "  </tbody>\n",
       "</table>\n",
       "</div>"
      ],
      "text/plain": [
       "   Id                                           Sequence  \\\n",
       "0   3  1,3,13,87,1053,28576,2141733,508147108,4021352...   \n",
       "1   7  1,2,1,5,5,1,11,16,7,1,23,44,30,9,1,47,112,104,...   \n",
       "2   8  1,2,4,5,8,10,16,20,32,40,64,80,128,160,256,320...   \n",
       "3  11  1,8,25,83,274,2275,132224,1060067,3312425,1099...   \n",
       "4  13  1,111,12211,1343211,147753211,16252853211,1787...   \n",
       "\n",
       "                                                 Seq  \n",
       "0  1 3 13 87 1053 28576 2141733 508147108 4021352...  \n",
       "1  1 2 1 5 5 1 11 16 7 1 23 44 30 9 1 47 112 104 ...  \n",
       "2  1 2 4 5 8 10 16 20 32 40 64 80 128 160 256 320...  \n",
       "3  1 8 25 83 274 2275 132224 1060067 3312425 1099...  \n",
       "4  1 111 12211 1343211 147753211 16252853211 1787...  "
      ]
     },
     "execution_count": 28,
     "metadata": {},
     "output_type": "execute_result"
    }
   ],
   "source": [
    "train_csv_small_pd['Seq'] = train_csv_small_pd['Sequence'].apply(lambda x: ' '.join(x.split(',')));train_csv_small_pd"
   ]
  },
  {
   "cell_type": "code",
   "execution_count": 36,
   "metadata": {},
   "outputs": [
    {
     "data": {
      "text/plain": [
       "'1 3 13 87 1053 28576 2141733 508147108 402135275365 1073376057490373 9700385489355970183 298434346895322960005291 31479360095907908092817694945 11474377948948020660089085281068730. 1 2 1 5 5 1 11 16 7 1 23 44 30 9 1 47 112 104 48 11 1 95 272 320 200 70 13 1 191 640 912 720 340 96 15 1 383 1472 2464 2352 1400 532 126 17 1 767 3328 6400 7168 5152 2464 784 160 19 1 1535 7424. 1 2 4 5 8 10 16 20 32 40 64 80 128 160 256 320 512 640 1024 1280 2048 2560 4096 5120 8192 10240 16384 20480 32768 40960 65536 81920 131072 163840 262144 327680 524288 655360 1048576 1310720 2097152. 1 8 25 83 274 2275 132224 1060067 3312425 10997342 36304451 301432950 17519415551 140456757358 438889687625 1457125820233 4810267148324 39939263006825 2321287521544174 18610239435360217. 1 111 12211 1343211 147753211 16252853211 1787813853211 196659523853211 21632547623853211 2379580238623853211 261753826248623853211 28792920887348623853211'"
      ]
     },
     "execution_count": 36,
     "metadata": {},
     "output_type": "execute_result"
    }
   ],
   "source": [
    "train_text_small =  train_csv_small_pd['Seq'].str.cat(sep='. ');train_text_small"
   ]
  },
  {
   "cell_type": "code",
   "execution_count": 96,
   "metadata": {},
   "outputs": [],
   "source": [
    "data_small = TextDataBunch.from_df(path,train_csv_small,train_csv_small, min_freq=1, bs=1)"
   ]
  },
  {
   "cell_type": "code",
   "execution_count": 97,
   "metadata": {},
   "outputs": [
    {
     "data": {
      "text/html": [
       "<table border=\"1\" class=\"dataframe\">\n",
       "  <thead>\n",
       "    <tr style=\"text-align: right;\">\n",
       "      <th>text</th>\n",
       "      <th>target</th>\n",
       "    </tr>\n",
       "  </thead>\n",
       "  <tbody>\n",
       "    <tr>\n",
       "      <td>xxbos 1 2 1 5 5 1 11 16 7 1 23 44 30 9 1 47 112 104 48 11 1 95 272 320 200 70 13 1 191 640 912 720 340 96 15 1 383 1472 2464 2352 1400 532 126 17 1 767 3328 6400 7168 5152 2464 784 160 19 1 1535</td>\n",
       "      <td>7424</td>\n",
       "    </tr>\n",
       "  </tbody>\n",
       "</table>"
      ],
      "text/plain": [
       "<IPython.core.display.HTML object>"
      ]
     },
     "metadata": {},
     "output_type": "display_data"
    }
   ],
   "source": [
    "data_small.show_batch()"
   ]
  },
  {
   "cell_type": "code",
   "execution_count": 35,
   "metadata": {},
   "outputs": [],
   "source": [
    "train_pd = pd.DataFrame();"
   ]
  },
  {
   "cell_type": "code",
   "execution_count": 36,
   "metadata": {},
   "outputs": [
    {
     "data": {
      "text/html": [
       "<div>\n",
       "<style scoped>\n",
       "    .dataframe tbody tr th:only-of-type {\n",
       "        vertical-align: middle;\n",
       "    }\n",
       "\n",
       "    .dataframe tbody tr th {\n",
       "        vertical-align: top;\n",
       "    }\n",
       "\n",
       "    .dataframe thead th {\n",
       "        text-align: right;\n",
       "    }\n",
       "</style>\n",
       "<table border=\"1\" class=\"dataframe\">\n",
       "  <thead>\n",
       "    <tr style=\"text-align: right;\">\n",
       "      <th></th>\n",
       "      <th>Seq</th>\n",
       "    </tr>\n",
       "  </thead>\n",
       "  <tbody>\n",
       "    <tr>\n",
       "      <th>0</th>\n",
       "      <td>1 3 13 87 1053 28576 2141733 508147108 4021352...</td>\n",
       "    </tr>\n",
       "    <tr>\n",
       "      <th>1</th>\n",
       "      <td>1 2 1 5 5 1 11 16 7 1 23 44 30 9 1 47 112 104 ...</td>\n",
       "    </tr>\n",
       "    <tr>\n",
       "      <th>2</th>\n",
       "      <td>1 2 4 5 8 10 16 20 32 40 64 80 128 160 256 320...</td>\n",
       "    </tr>\n",
       "    <tr>\n",
       "      <th>3</th>\n",
       "      <td>1 8 25 83 274 2275 132224 1060067 3312425 1099...</td>\n",
       "    </tr>\n",
       "    <tr>\n",
       "      <th>4</th>\n",
       "      <td>1 111 12211 1343211 147753211 16252853211 1787...</td>\n",
       "    </tr>\n",
       "  </tbody>\n",
       "</table>\n",
       "</div>"
      ],
      "text/plain": [
       "                                                 Seq\n",
       "0  1 3 13 87 1053 28576 2141733 508147108 4021352...\n",
       "1  1 2 1 5 5 1 11 16 7 1 23 44 30 9 1 47 112 104 ...\n",
       "2  1 2 4 5 8 10 16 20 32 40 64 80 128 160 256 320...\n",
       "3  1 8 25 83 274 2275 132224 1060067 3312425 1099...\n",
       "4  1 111 12211 1343211 147753211 16252853211 1787..."
      ]
     },
     "execution_count": 36,
     "metadata": {},
     "output_type": "execute_result"
    }
   ],
   "source": [
    "train_pd['Seq'] = train_csv_pd['Sequence'].apply(lambda x: ' '.join(x.split(',')));train_pd.head()"
   ]
  },
  {
   "cell_type": "code",
   "execution_count": 37,
   "metadata": {},
   "outputs": [
    {
     "data": {
      "text/plain": [
       "102460"
      ]
     },
     "execution_count": 37,
     "metadata": {},
     "output_type": "execute_result"
    }
   ],
   "source": [
    "val_b = int(train_pd.shape[0]*90/100);val_b"
   ]
  },
  {
   "cell_type": "code",
   "execution_count": 38,
   "metadata": {},
   "outputs": [
    {
     "data": {
      "text/html": [
       "<div>\n",
       "<style scoped>\n",
       "    .dataframe tbody tr th:only-of-type {\n",
       "        vertical-align: middle;\n",
       "    }\n",
       "\n",
       "    .dataframe tbody tr th {\n",
       "        vertical-align: top;\n",
       "    }\n",
       "\n",
       "    .dataframe thead th {\n",
       "        text-align: right;\n",
       "    }\n",
       "</style>\n",
       "<table border=\"1\" class=\"dataframe\">\n",
       "  <thead>\n",
       "    <tr style=\"text-align: right;\">\n",
       "      <th></th>\n",
       "      <th>Seq</th>\n",
       "    </tr>\n",
       "  </thead>\n",
       "  <tbody>\n",
       "    <tr>\n",
       "      <th>0</th>\n",
       "      <td>1 3 13 87 1053 28576 2141733 508147108 4021352...</td>\n",
       "    </tr>\n",
       "    <tr>\n",
       "      <th>1</th>\n",
       "      <td>1 2 1 5 5 1 11 16 7 1 23 44 30 9 1 47 112 104 ...</td>\n",
       "    </tr>\n",
       "    <tr>\n",
       "      <th>2</th>\n",
       "      <td>1 2 4 5 8 10 16 20 32 40 64 80 128 160 256 320...</td>\n",
       "    </tr>\n",
       "    <tr>\n",
       "      <th>3</th>\n",
       "      <td>1 8 25 83 274 2275 132224 1060067 3312425 1099...</td>\n",
       "    </tr>\n",
       "    <tr>\n",
       "      <th>4</th>\n",
       "      <td>1 111 12211 1343211 147753211 16252853211 1787...</td>\n",
       "    </tr>\n",
       "  </tbody>\n",
       "</table>\n",
       "</div>"
      ],
      "text/plain": [
       "                                                 Seq\n",
       "0  1 3 13 87 1053 28576 2141733 508147108 4021352...\n",
       "1  1 2 1 5 5 1 11 16 7 1 23 44 30 9 1 47 112 104 ...\n",
       "2  1 2 4 5 8 10 16 20 32 40 64 80 128 160 256 320...\n",
       "3  1 8 25 83 274 2275 132224 1060067 3312425 1099...\n",
       "4  1 111 12211 1343211 147753211 16252853211 1787..."
      ]
     },
     "execution_count": 38,
     "metadata": {},
     "output_type": "execute_result"
    }
   ],
   "source": [
    "train_data = train_pd[0:val_b]; train_data.head()"
   ]
  },
  {
   "cell_type": "code",
   "execution_count": 39,
   "metadata": {},
   "outputs": [
    {
     "data": {
      "text/plain": [
       "(11384, 1)"
      ]
     },
     "execution_count": 39,
     "metadata": {},
     "output_type": "execute_result"
    }
   ],
   "source": [
    "valid_data = train_pd[val_b+1:]; valid_data.shape"
   ]
  },
  {
   "cell_type": "code",
   "execution_count": 40,
   "metadata": {},
   "outputs": [
    {
     "data": {
      "text/plain": [
       "'1 3 13 87 1053 28576 2141733 508147108 402135275365 1073376057490373 9700385489355970183 298434346895322960005291 31479360095907908092817694945 11474377948948020660089085281068730. 1 2 1 5 5 1 11 16 7 1 23 44 30 9 1 47 112 104 48 11 1 95 272 320 200 70 13 1 191 640 912 720 340 96 15 1 383 1472 2464 2352 1400 532 126 17 1 767 3328 6400 7168 5152 2464 784 160 19 1 1535 7424. 1 2 4 5 8 10 16 20 32 40 64 80 128 160 256 320 512 640 1024 1280 2048 2560 4096 5120 8192 10240 16384 20480 32768 40960 65536 81920 131072 163840 262144 327680 524288 655360 1048576 1310720 2097152. 1 8 25 83 274 2275 132224 1060067 3312425 10997342 36304451 301432950 17519415551 140456757358 438889687625 1457125820233 4810267148324 39939263006825 2321287521544174 18610239435360217. 1 111 12211 1343211 147753211 16252853211 1787813853211 196659523853211 21632547623853211 2379580238623853211 261753826248623853211 28792920887348623853211. 1 1 1 1 1 1 1 1 1 5 1 1 1 1 5 5 1 1 1 1 11 5 5 11 5 1 1 1 1 5 23 5 23 5 5 1 1 1 1'"
      ]
     },
     "execution_count": 40,
     "metadata": {},
     "output_type": "execute_result"
    }
   ],
   "source": [
    "train_text =  train_data['Seq'].str.cat(sep='. ');train_text[:1000]"
   ]
  },
  {
   "cell_type": "code",
   "execution_count": 41,
   "metadata": {},
   "outputs": [],
   "source": [
    "valid_text =  valid_data['Seq'].str.cat(sep='. ');"
   ]
  },
  {
   "cell_type": "code",
   "execution_count": 42,
   "metadata": {},
   "outputs": [
    {
     "data": {
      "text/html": [
       "<div>\n",
       "<style scoped>\n",
       "    .dataframe tbody tr th:only-of-type {\n",
       "        vertical-align: middle;\n",
       "    }\n",
       "\n",
       "    .dataframe tbody tr th {\n",
       "        vertical-align: top;\n",
       "    }\n",
       "\n",
       "    .dataframe thead th {\n",
       "        text-align: right;\n",
       "    }\n",
       "</style>\n",
       "<table border=\"1\" class=\"dataframe\">\n",
       "  <thead>\n",
       "    <tr style=\"text-align: right;\">\n",
       "      <th></th>\n",
       "      <th>Id</th>\n",
       "      <th>Sequence</th>\n",
       "      <th>Seq</th>\n",
       "    </tr>\n",
       "  </thead>\n",
       "  <tbody>\n",
       "    <tr>\n",
       "      <th>0</th>\n",
       "      <td>1</td>\n",
       "      <td>1,0,0,2,24,552,21280,103760,70299264,579285324...</td>\n",
       "      <td>1 0 0 2 24 552 21280 103760 70299264 579285324...</td>\n",
       "    </tr>\n",
       "    <tr>\n",
       "      <th>1</th>\n",
       "      <td>2</td>\n",
       "      <td>1,1,5,11,35,93,269,747,2115,5933,16717,47003,1...</td>\n",
       "      <td>1 1 5 11 35 93 269 747 2115 5933 16717 47003 1...</td>\n",
       "    </tr>\n",
       "    <tr>\n",
       "      <th>2</th>\n",
       "      <td>4</td>\n",
       "      <td>0,1,101,2,15,102,73,3,40,16,47,103,51,74,116,4...</td>\n",
       "      <td>0 1 101 2 15 102 73 3 40 16 47 103 51 74 116 4...</td>\n",
       "    </tr>\n",
       "    <tr>\n",
       "      <th>3</th>\n",
       "      <td>5</td>\n",
       "      <td>1,4,14,23,42,33,35,34,63,66,87,116,84,101,126,...</td>\n",
       "      <td>1 4 14 23 42 33 35 34 63 66 87 116 84 101 126 ...</td>\n",
       "    </tr>\n",
       "    <tr>\n",
       "      <th>4</th>\n",
       "      <td>6</td>\n",
       "      <td>1,1,2,5,4,2,6,13,11,4,10,10,12,6,8,29,16,11,18...</td>\n",
       "      <td>1 1 2 5 4 2 6 13 11 4 10 10 12 6 8 29 16 11 18...</td>\n",
       "    </tr>\n",
       "  </tbody>\n",
       "</table>\n",
       "</div>"
      ],
      "text/plain": [
       "   Id                                           Sequence  \\\n",
       "0   1  1,0,0,2,24,552,21280,103760,70299264,579285324...   \n",
       "1   2  1,1,5,11,35,93,269,747,2115,5933,16717,47003,1...   \n",
       "2   4  0,1,101,2,15,102,73,3,40,16,47,103,51,74,116,4...   \n",
       "3   5  1,4,14,23,42,33,35,34,63,66,87,116,84,101,126,...   \n",
       "4   6  1,1,2,5,4,2,6,13,11,4,10,10,12,6,8,29,16,11,18...   \n",
       "\n",
       "                                                 Seq  \n",
       "0  1 0 0 2 24 552 21280 103760 70299264 579285324...  \n",
       "1  1 1 5 11 35 93 269 747 2115 5933 16717 47003 1...  \n",
       "2  0 1 101 2 15 102 73 3 40 16 47 103 51 74 116 4...  \n",
       "3  1 4 14 23 42 33 35 34 63 66 87 116 84 101 126 ...  \n",
       "4  1 1 2 5 4 2 6 13 11 4 10 10 12 6 8 29 16 11 18...  "
      ]
     },
     "execution_count": 42,
     "metadata": {},
     "output_type": "execute_result"
    }
   ],
   "source": [
    "test_csv_pd['Seq'] = test_csv_pd['Sequence'].apply(lambda x: ' '.join(x.split(',')));test_csv_pd.head()"
   ]
  },
  {
   "cell_type": "code",
   "execution_count": 43,
   "metadata": {},
   "outputs": [],
   "source": [
    "data = TextLMDataBunch.from_df(path, \n",
    "                               train_data, \n",
    "                               valid_data,\n",
    "                               text_cols=0,\n",
    "                               min_freq=1, \n",
    "                               max_vocab=1147437794894802066008908528106873, \n",
    "                               bs=5)"
   ]
  },
  {
   "cell_type": "code",
   "execution_count": 88,
   "metadata": {},
   "outputs": [
    {
     "data": {
      "text/plain": [
       "TextLMDataBunch;\n",
       "\n",
       "Train: LabelList (102460 items)\n",
       "x: LMTextList\n",
       "xxbos 1 3 13 87 1053 28576 2141733 508147108 402135275365 1073376057490373 9700385489355970183 298434346895322960005291 31479360095907908092817694945 11474377948948020660089085281068730,xxbos 1 2 1 5 5 1 11 16 7 1 23 44 30 9 1 47 112 104 48 11 1 95 272 320 200 70 13 1 191 640 912 720 340 96 15 1 383 1472 2464 2352 1400 532 126 17 1 767 3328 6400 7168 5152 2464 784 160 19 1 1535 7424,xxbos 1 2 4 5 8 10 16 20 32 40 64 80 128 160 256 320 512 640 1024 1280 2048 2560 4096 5120 8192 10240 16384 20480 32768 40960 65536 81920 131072 163840 262144 327680 524288 655360 1048576 1310720 2097152,xxbos 1 8 25 83 274 2275 132224 1060067 3312425 10997342 36304451 301432950 17519415551 140456757358 438889687625 1457125820233 4810267148324 39939263006825 2321287521544174 18610239435360217,xxbos 1 111 12211 1343211 147753211 16252853211 1787813853211 196659523853211 21632547623853211 2379580238623853211 261753826248623853211 28792920887348623853211\n",
       "y: LMLabelList\n",
       ",,,,\n",
       "Path: /storage/integer-sequence;\n",
       "\n",
       "Valid: LabelList (11384 items)\n",
       "x: LMTextList\n",
       "xxbos 0 xxwrep 103 1 1,xxbos 2 2 5 5 1571 2693 15427 27749 xxunk xxunk xxunk xxunk xxunk xxunk xxunk,xxbos 1 2 5 14 35 95 248 668 1781 4799 12890 xxunk xxunk xxunk xxunk xxunk xxunk xxunk xxunk xxunk xxunk xxunk xxunk xxunk xxunk xxunk xxunk,xxbos 156 656 756 776 780 3156 3256 3276 3280 3756 3776 3780 3876 3880 3900 15656 15756 15776 15780 16256 16276 16280 16376 16380 16400 18756 xxunk 18780 18876 18880 18900 19376 19380 19400 19500 78156,xxbos 5 35 11 65 77 143 17 95 119 209 221 323 23 125 161 275 299 425 437 575 29 155 203 341 377 527 589 713 725 879 35 185 245 407 455 629 665 851 875 1073 1085 1295 41 215 287 473 533 731 779 989 1025 1247 1271 1505\n",
       "y: LMLabelList\n",
       ",,,,\n",
       "Path: /storage/integer-sequence;\n",
       "\n",
       "Test: None"
      ]
     },
     "execution_count": 88,
     "metadata": {},
     "output_type": "execute_result"
    }
   ],
   "source": [
    "data"
   ]
  },
  {
   "cell_type": "code",
   "execution_count": 44,
   "metadata": {},
   "outputs": [
    {
     "data": {
      "text/plain": [
       "0"
      ]
     },
     "execution_count": 44,
     "metadata": {},
     "output_type": "execute_result"
    }
   ],
   "source": [
    "gc.collect()"
   ]
  },
  {
   "cell_type": "markdown",
   "metadata": {},
   "source": [
    "# Train"
   ]
  },
  {
   "cell_type": "code",
   "execution_count": 45,
   "metadata": {},
   "outputs": [],
   "source": [
    "learn = language_model_learner(data, AWD_LSTM, pretrained=False, drop_mult=0.3)"
   ]
  },
  {
   "cell_type": "code",
   "execution_count": 93,
   "metadata": {},
   "outputs": [
    {
     "data": {
      "text/html": [],
      "text/plain": [
       "<IPython.core.display.HTML object>"
      ]
     },
     "metadata": {},
     "output_type": "display_data"
    },
    {
     "name": "stdout",
     "output_type": "stream",
     "text": [
      "LR Finder is complete, type {learner_name}.recorder.plot() to see the graph.\n"
     ]
    }
   ],
   "source": [
    "learn.lr_find()"
   ]
  },
  {
   "cell_type": "code",
   "execution_count": 94,
   "metadata": {},
   "outputs": [
    {
     "data": {
      "image/png": "[encoded data removed]",
      "text/plain": [
       "<Figure size 432x288 with 1 Axes>"
      ]
     },
     "metadata": {
      "needs_background": "light"
     },
     "output_type": "display_data"
    }
   ],
   "source": [
    "learn.recorder.plot(skip_end=15)"
   ]
  },
  {
   "cell_type": "code",
   "execution_count": null,
   "metadata": {},
   "outputs": [
    {
     "data": {
      "text/html": [
       "\n",
       "    <div>\n",
       "        <style>\n",
       "            /* Turns off some styling */\n",
       "            progress {\n",
       "                /* gets rid of default border in Firefox and Opera. */\n",
       "                border: none;\n",
       "                /* Needs to be in here for Safari polyfill so background images work as expected. */\n",
       "                background-size: auto;\n",
       "            }\n",
       "            .progress-bar-interrupted, .progress-bar-interrupted::-webkit-progress-bar {\n",
       "                background: #F44336;\n",
       "            }\n",
       "        </style>\n",
       "      <progress value='0' class='' max='1', style='width:300px; height:20px; vertical-align: middle;'></progress>\n",
       "      0.00% [0/1 00:00<00:00]\n",
       "    </div>\n",
       "    \n",
       "<table border=\"1\" class=\"dataframe\">\n",
       "  <thead>\n",
       "    <tr style=\"text-align: left;\">\n",
       "      <th>epoch</th>\n",
       "      <th>train_loss</th>\n",
       "      <th>valid_loss</th>\n",
       "      <th>accuracy</th>\n",
       "      <th>time</th>\n",
       "    </tr>\n",
       "  </thead>\n",
       "  <tbody>\n",
       "  </tbody>\n",
       "</table><p>\n",
       "\n",
       "    <div>\n",
       "        <style>\n",
       "            /* Turns off some styling */\n",
       "            progress {\n",
       "                /* gets rid of default border in Firefox and Opera. */\n",
       "                border: none;\n",
       "                /* Needs to be in here for Safari polyfill so background images work as expected. */\n",
       "                background-size: auto;\n",
       "            }\n",
       "            .progress-bar-interrupted, .progress-bar-interrupted::-webkit-progress-bar {\n",
       "                background: #F44336;\n",
       "            }\n",
       "        </style>\n",
       "      <progress value='11520' class='' max='12307', style='width:300px; height:20px; vertical-align: middle;'></progress>\n",
       "      93.61% [11520/12307 57:27<03:55 5.6181]\n",
       "    </div>\n",
       "    "
      ],
      "text/plain": [
       "<IPython.core.display.HTML object>"
      ]
     },
     "metadata": {},
     "output_type": "display_data"
    }
   ],
   "source": [
    "learn.fit_one_cycle(1, 1e-2, moms=(0.8,0.7))"
   ]
  },
  {
   "cell_type": "code",
   "execution_count": null,
   "metadata": {},
   "outputs": [],
   "source": [
    "learn.save('step1')"
   ]
  },
  {
   "cell_type": "code",
   "execution_count": null,
   "metadata": {},
   "outputs": [],
   "source": [
    "learn.unfreeze()"
   ]
  },
  {
   "cell_type": "code",
   "execution_count": null,
   "metadata": {},
   "outputs": [],
   "source": [
    "learn.fit_one_cycle(3, 1e-3, moms=(0.8,0.7))"
   ]
  },
  {
   "cell_type": "code",
   "execution_count": null,
   "metadata": {},
   "outputs": [],
   "source": [
    "learn.save('step2')"
   ]
  },
  {
   "cell_type": "code",
   "execution_count": 46,
   "metadata": {},
   "outputs": [
    {
     "data": {
      "text/plain": [
       "LanguageLearner(data=TextLMDataBunch;\n",
       "\n",
       "Train: LabelList (102460 items)\n",
       "x: LMTextList\n",
       "xxbos 1 3 13 87 1053 28576 2141733 508147108 402135275365 1073376057490373 9700385489355970183 298434346895322960005291 31479360095907908092817694945 11474377948948020660089085281068730,xxbos 1 2 1 5 5 1 11 16 7 1 23 44 30 9 1 47 112 104 48 11 1 95 272 320 200 70 13 1 191 640 912 720 340 96 15 1 383 1472 2464 2352 1400 532 126 17 1 767 3328 6400 7168 5152 2464 784 160 19 1 1535 7424,xxbos 1 2 4 5 8 10 16 20 32 40 64 80 128 160 256 320 512 640 1024 1280 2048 2560 4096 5120 8192 10240 16384 20480 32768 40960 65536 81920 131072 163840 262144 327680 524288 655360 1048576 1310720 2097152,xxbos 1 8 25 83 274 2275 132224 1060067 3312425 10997342 36304451 301432950 17519415551 140456757358 438889687625 1457125820233 4810267148324 39939263006825 2321287521544174 18610239435360217,xxbos 1 111 12211 1343211 147753211 16252853211 1787813853211 196659523853211 21632547623853211 2379580238623853211 261753826248623853211 28792920887348623853211\n",
       "y: LMLabelList\n",
       ",,,,\n",
       "Path: /storage/integer-sequence;\n",
       "\n",
       "Valid: LabelList (11384 items)\n",
       "x: LMTextList\n",
       "xxbos 0 xxwrep 103 1 1,xxbos 2 2 5 5 1571 2693 15427 27749 xxunk xxunk xxunk xxunk xxunk xxunk xxunk,xxbos 1 2 5 14 35 95 248 668 1781 4799 12890 xxunk xxunk xxunk xxunk xxunk xxunk xxunk xxunk xxunk xxunk xxunk xxunk xxunk xxunk xxunk xxunk,xxbos 156 656 756 776 780 3156 3256 3276 3280 3756 3776 3780 3876 3880 3900 15656 15756 15776 15780 16256 16276 16280 16376 16380 16400 18756 xxunk 18780 18876 18880 18900 19376 19380 19400 19500 78156,xxbos 5 35 11 65 77 143 17 95 119 209 221 323 23 125 161 275 299 425 437 575 29 155 203 341 377 527 589 713 725 879 35 185 245 407 455 629 665 851 875 1073 1085 1295 41 215 287 473 533 731 779 989 1025 1247 1271 1505\n",
       "y: LMLabelList\n",
       ",,,,\n",
       "Path: /storage/integer-sequence;\n",
       "\n",
       "Test: None, model=SequentialRNN(\n",
       "  (0): AWD_LSTM(\n",
       "    (encoder): Embedding(550683, 400, padding_idx=1)\n",
       "    (encoder_dp): EmbeddingDropout(\n",
       "      (emb): Embedding(550683, 400, padding_idx=1)\n",
       "    )\n",
       "    (rnns): ModuleList(\n",
       "      (0): WeightDropout(\n",
       "        (module): LSTM(400, 1150, batch_first=True)\n",
       "      )\n",
       "      (1): WeightDropout(\n",
       "        (module): LSTM(1150, 1150, batch_first=True)\n",
       "      )\n",
       "      (2): WeightDropout(\n",
       "        (module): LSTM(1150, 400, batch_first=True)\n",
       "      )\n",
       "    )\n",
       "    (input_dp): RNNDropout()\n",
       "    (hidden_dps): ModuleList(\n",
       "      (0): RNNDropout()\n",
       "      (1): RNNDropout()\n",
       "      (2): RNNDropout()\n",
       "    )\n",
       "  )\n",
       "  (1): LinearDecoder(\n",
       "    (decoder): Linear(in_features=400, out_features=550683, bias=True)\n",
       "    (output_dp): RNNDropout()\n",
       "  )\n",
       "), opt_func=functools.partial(<class 'torch.optim.adam.Adam'>, betas=(0.9, 0.99)), loss_func=FlattenedLoss of CrossEntropyLoss(), metrics=[<function accuracy at 0x7fb79a7972f0>], true_wd=True, bn_wd=True, wd=0.01, train_bn=True, path=PosixPath('/storage/integer-sequence'), model_dir='models', callback_fns=[functools.partial(<class 'fastai.basic_train.Recorder'>, add_time=True)], callbacks=[RNNTrainer\n",
       "learn: LanguageLearner(data=TextLMDataBunch;\n",
       "\n",
       "Train: LabelList (102460 items)\n",
       "x: LMTextList\n",
       "xxbos 1 3 13 87 1053 28576 2141733 508147108 402135275365 1073376057490373 9700385489355970183 298434346895322960005291 31479360095907908092817694945 11474377948948020660089085281068730,xxbos 1 2 1 5 5 1 11 16 7 1 23 44 30 9 1 47 112 104 48 11 1 95 272 320 200 70 13 1 191 640 912 720 340 96 15 1 383 1472 2464 2352 1400 532 126 17 1 767 3328 6400 7168 5152 2464 784 160 19 1 1535 7424,xxbos 1 2 4 5 8 10 16 20 32 40 64 80 128 160 256 320 512 640 1024 1280 2048 2560 4096 5120 8192 10240 16384 20480 32768 40960 65536 81920 131072 163840 262144 327680 524288 655360 1048576 1310720 2097152,xxbos 1 8 25 83 274 2275 132224 1060067 3312425 10997342 36304451 301432950 17519415551 140456757358 438889687625 1457125820233 4810267148324 39939263006825 2321287521544174 18610239435360217,xxbos 1 111 12211 1343211 147753211 16252853211 1787813853211 196659523853211 21632547623853211 2379580238623853211 261753826248623853211 28792920887348623853211\n",
       "y: LMLabelList\n",
       ",,,,\n",
       "Path: /storage/integer-sequence;\n",
       "\n",
       "Valid: LabelList (11384 items)\n",
       "x: LMTextList\n",
       "xxbos 0 xxwrep 103 1 1,xxbos 2 2 5 5 1571 2693 15427 27749 xxunk xxunk xxunk xxunk xxunk xxunk xxunk,xxbos 1 2 5 14 35 95 248 668 1781 4799 12890 xxunk xxunk xxunk xxunk xxunk xxunk xxunk xxunk xxunk xxunk xxunk xxunk xxunk xxunk xxunk xxunk,xxbos 156 656 756 776 780 3156 3256 3276 3280 3756 3776 3780 3876 3880 3900 15656 15756 15776 15780 16256 16276 16280 16376 16380 16400 18756 xxunk 18780 18876 18880 18900 19376 19380 19400 19500 78156,xxbos 5 35 11 65 77 143 17 95 119 209 221 323 23 125 161 275 299 425 437 575 29 155 203 341 377 527 589 713 725 879 35 185 245 407 455 629 665 851 875 1073 1085 1295 41 215 287 473 533 731 779 989 1025 1247 1271 1505\n",
       "y: LMLabelList\n",
       ",,,,\n",
       "Path: /storage/integer-sequence;\n",
       "\n",
       "Test: None, model=SequentialRNN(\n",
       "  (0): AWD_LSTM(\n",
       "    (encoder): Embedding(550683, 400, padding_idx=1)\n",
       "    (encoder_dp): EmbeddingDropout(\n",
       "      (emb): Embedding(550683, 400, padding_idx=1)\n",
       "    )\n",
       "    (rnns): ModuleList(\n",
       "      (0): WeightDropout(\n",
       "        (module): LSTM(400, 1150, batch_first=True)\n",
       "      )\n",
       "      (1): WeightDropout(\n",
       "        (module): LSTM(1150, 1150, batch_first=True)\n",
       "      )\n",
       "      (2): WeightDropout(\n",
       "        (module): LSTM(1150, 400, batch_first=True)\n",
       "      )\n",
       "    )\n",
       "    (input_dp): RNNDropout()\n",
       "    (hidden_dps): ModuleList(\n",
       "      (0): RNNDropout()\n",
       "      (1): RNNDropout()\n",
       "      (2): RNNDropout()\n",
       "    )\n",
       "  )\n",
       "  (1): LinearDecoder(\n",
       "    (decoder): Linear(in_features=400, out_features=550683, bias=True)\n",
       "    (output_dp): RNNDropout()\n",
       "  )\n",
       "), opt_func=functools.partial(<class 'torch.optim.adam.Adam'>, betas=(0.9, 0.99)), loss_func=FlattenedLoss of CrossEntropyLoss(), metrics=[<function accuracy at 0x7fb79a7972f0>], true_wd=True, bn_wd=True, wd=0.01, train_bn=True, path=PosixPath('/storage/integer-sequence'), model_dir='models', callback_fns=[functools.partial(<class 'fastai.basic_train.Recorder'>, add_time=True)], callbacks=[...], layer_groups=[Sequential(\n",
       "  (0): WeightDropout(\n",
       "    (module): LSTM(400, 1150, batch_first=True)\n",
       "  )\n",
       "  (1): RNNDropout()\n",
       "), Sequential(\n",
       "  (0): WeightDropout(\n",
       "    (module): LSTM(1150, 1150, batch_first=True)\n",
       "  )\n",
       "  (1): RNNDropout()\n",
       "), Sequential(\n",
       "  (0): WeightDropout(\n",
       "    (module): LSTM(1150, 400, batch_first=True)\n",
       "  )\n",
       "  (1): RNNDropout()\n",
       "), Sequential(\n",
       "  (0): Embedding(550683, 400, padding_idx=1)\n",
       "  (1): EmbeddingDropout(\n",
       "    (emb): Embedding(550683, 400, padding_idx=1)\n",
       "  )\n",
       "  (2): LinearDecoder(\n",
       "    (decoder): Linear(in_features=400, out_features=550683, bias=True)\n",
       "    (output_dp): RNNDropout()\n",
       "  )\n",
       ")], add_time=True)\n",
       "alpha: 2.0\n",
       "beta: 1.0], layer_groups=[Sequential(\n",
       "  (0): WeightDropout(\n",
       "    (module): LSTM(400, 1150, batch_first=True)\n",
       "  )\n",
       "  (1): RNNDropout()\n",
       "), Sequential(\n",
       "  (0): WeightDropout(\n",
       "    (module): LSTM(1150, 1150, batch_first=True)\n",
       "  )\n",
       "  (1): RNNDropout()\n",
       "), Sequential(\n",
       "  (0): WeightDropout(\n",
       "    (module): LSTM(1150, 400, batch_first=True)\n",
       "  )\n",
       "  (1): RNNDropout()\n",
       "), Sequential(\n",
       "  (0): Embedding(550683, 400, padding_idx=1)\n",
       "  (1): EmbeddingDropout(\n",
       "    (emb): Embedding(550683, 400, padding_idx=1)\n",
       "  )\n",
       "  (2): LinearDecoder(\n",
       "    (decoder): Linear(in_features=400, out_features=550683, bias=True)\n",
       "    (output_dp): RNNDropout()\n",
       "  )\n",
       ")], add_time=True)"
      ]
     },
     "execution_count": 46,
     "metadata": {},
     "output_type": "execute_result"
    }
   ],
   "source": [
    "learn.load('step2')"
   ]
  },
  {
   "cell_type": "code",
   "execution_count": 27,
   "metadata": {},
   "outputs": [
    {
     "data": {
      "text/plain": [
       "'1 1 2 3 5 8 9'"
      ]
     },
     "execution_count": 27,
     "metadata": {},
     "output_type": "execute_result"
    }
   ],
   "source": [
    "preds=learn.predict('1 1 2 3 5 8');preds"
   ]
  },
  {
   "cell_type": "markdown",
   "metadata": {},
   "source": [
    "## Submitting results to kaggle"
   ]
  },
  {
   "cell_type": "code",
   "execution_count": 75,
   "metadata": {},
   "outputs": [],
   "source": [
    "import pandas as pd\n",
    "submission = pd.DataFrame()"
   ]
  },
  {
   "cell_type": "code",
   "execution_count": 76,
   "metadata": {},
   "outputs": [],
   "source": [
    "submission['Id'] = test_csv_pd['Id'].astype(int)"
   ]
  },
  {
   "cell_type": "code",
   "execution_count": 84,
   "metadata": {},
   "outputs": [],
   "source": [
    "test_seq = test_csv_pd['Seq'][0]"
   ]
  },
  {
   "cell_type": "code",
   "execution_count": 87,
   "metadata": {},
   "outputs": [],
   "source": [
    "def predict(seq):\n",
    "    return learn.predict(seq).split(' ')[-1:][0]"
   ]
  },
  {
   "cell_type": "code",
   "execution_count": 88,
   "metadata": {},
   "outputs": [
    {
     "data": {
      "text/plain": [
       "'32706116'"
      ]
     },
     "execution_count": 88,
     "metadata": {},
     "output_type": "execute_result"
    }
   ],
   "source": [
    "predict(test_seq)"
   ]
  },
  {
   "cell_type": "code",
   "execution_count": 89,
   "metadata": {},
   "outputs": [],
   "source": [
    "test_csv_pd['Last'] = test_csv_pd['Seq'].apply(lambda x: predict(x))"
   ]
  },
  {
   "cell_type": "code",
   "execution_count": 90,
   "metadata": {},
   "outputs": [],
   "source": [
    "submission['Last'] = test_csv_pd['Last']"
   ]
  },
  {
   "cell_type": "code",
   "execution_count": 77,
   "metadata": {},
   "outputs": [
    {
     "data": {
      "text/plain": [
       "(113845, 1)"
      ]
     },
     "execution_count": 77,
     "metadata": {},
     "output_type": "execute_result"
    }
   ],
   "source": [
    "submission.shape"
   ]
  },
  {
   "cell_type": "code",
   "execution_count": 91,
   "metadata": {},
   "outputs": [],
   "source": [
    "submission.to_csv(path/'submission.csv', index=False)"
   ]
  },
  {
   "cell_type": "code",
   "execution_count": 92,
   "metadata": {},
   "outputs": [
    {
     "name": "stdout",
     "output_type": "stream",
     "text": [
      "100%|██████████████████████████████████████| 1.36M/1.36M [00:00<00:00, 1.73MB/s]\n",
      "Successfully submitted to Integer Sequence Learning"
     ]
    }
   ],
   "source": [
    "! kaggle competitions submit integer-sequence-learning -f {path/'submission.csv'} -m \"My submission\""
   ]
  },
  {
   "cell_type": "markdown",
   "metadata": {},
   "source": [
    "very poor result actually - 0.04634"
   ]
  }
 ],
 "metadata": {
  "kernelspec": {
   "display_name": "Python 3",
   "language": "python",
   "name": "python3"
  },
  "language_info": {
   "codemirror_mode": {
    "name": "ipython",
    "version": 3
   },
   "file_extension": ".py",
   "mimetype": "text/x-python",
   "name": "python",
   "nbconvert_exporter": "python",
   "pygments_lexer": "ipython3",
   "version": "3.6.8"
  }
 },
 "nbformat": 4,
 "nbformat_minor": 2
}
